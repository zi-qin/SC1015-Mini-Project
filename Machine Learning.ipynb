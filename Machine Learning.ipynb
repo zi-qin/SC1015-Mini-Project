{
 "cells": [
  {
   "cell_type": "markdown",
   "id": "f8f6960e",
   "metadata": {},
   "source": [
    "### Random Forest Classifier Model\n",
    "\n",
    "Prediction of whether an employee has an intention to leave his/her employer. \n",
    "\n",
    "Predictor variables (numeric) : YrsCurEmp, NumChild, Stress, Age, Promo, OpProc, Supvr\n",
    "\n",
    "Predictor variables (categorical) : HseCare, Edu, GenDis, EthDis, MissFamAct, PaidFair, EmpBft, EnjCo, InfByOth\n",
    "\n",
    "Response variable : ChgEmp "
   ]
  },
  {
   "cell_type": "code",
   "execution_count": 1,
   "id": "ded68b4d",
   "metadata": {},
   "outputs": [],
   "source": [
    "# Basic Libraries\n",
    "import numpy as np\n",
    "import pandas as pd\n",
    "import seaborn as sb\n",
    "import matplotlib.pyplot as plt # we only need pyplot\n",
    "sb.set() # set the default Seaborn style for graphics"
   ]
  },
  {
   "cell_type": "code",
   "execution_count": 2,
   "id": "fb43b28e",
   "metadata": {},
   "outputs": [],
   "source": [
    "# Import essential models and functions from sklearn\n",
    "from sklearn.preprocessing import OneHotEncoder\n",
    "from sklearn.ensemble import RandomForestClassifier\n",
    "from sklearn.model_selection import train_test_split\n",
    "from sklearn.metrics import confusion_matrix\n",
    "from sklearn.tree import plot_tree\n",
    "from sklearn.feature_selection import SelectFromModel\n",
    "from sklearn import metrics\n",
    "from sklearn.tree import plot_tree"
   ]
  },
  {
   "cell_type": "code",
   "execution_count": 3,
   "id": "64d19cf8",
   "metadata": {},
   "outputs": [
    {
     "data": {
      "text/html": [
       "<div>\n",
       "<style scoped>\n",
       "    .dataframe tbody tr th:only-of-type {\n",
       "        vertical-align: middle;\n",
       "    }\n",
       "\n",
       "    .dataframe tbody tr th {\n",
       "        vertical-align: top;\n",
       "    }\n",
       "\n",
       "    .dataframe thead th {\n",
       "        text-align: right;\n",
       "    }\n",
       "</style>\n",
       "<table border=\"1\" class=\"dataframe\">\n",
       "  <thead>\n",
       "    <tr style=\"text-align: right;\">\n",
       "      <th></th>\n",
       "      <th>Unnamed: 0</th>\n",
       "      <th>HseCare</th>\n",
       "      <th>Edu</th>\n",
       "      <th>ChgEmp</th>\n",
       "      <th>GenDis</th>\n",
       "      <th>EthDis</th>\n",
       "      <th>MissFamAct</th>\n",
       "      <th>PaidFair</th>\n",
       "      <th>EmpBft</th>\n",
       "      <th>EnjCo</th>\n",
       "      <th>InfByOth</th>\n",
       "      <th>YrsCurEmp</th>\n",
       "      <th>NumChild</th>\n",
       "      <th>Stress</th>\n",
       "      <th>Age</th>\n",
       "      <th>Promo</th>\n",
       "      <th>OpProc</th>\n",
       "      <th>Supvr</th>\n",
       "      <th>IntLvEmp</th>\n",
       "    </tr>\n",
       "  </thead>\n",
       "  <tbody>\n",
       "    <tr>\n",
       "      <th>0</th>\n",
       "      <td>0</td>\n",
       "      <td>Equal Responsibility</td>\n",
       "      <td>Bachelor Degree</td>\n",
       "      <td>Agree</td>\n",
       "      <td>Strongly Disagree</td>\n",
       "      <td>Strongly Disagree</td>\n",
       "      <td>Moderately Disagree</td>\n",
       "      <td>Strongly Disagree</td>\n",
       "      <td>Moderately Agree</td>\n",
       "      <td>Moderately Agree</td>\n",
       "      <td>Disagree</td>\n",
       "      <td>17</td>\n",
       "      <td>2</td>\n",
       "      <td>1.50</td>\n",
       "      <td>42</td>\n",
       "      <td>8</td>\n",
       "      <td>10</td>\n",
       "      <td>12</td>\n",
       "      <td>2.67</td>\n",
       "    </tr>\n",
       "    <tr>\n",
       "      <th>1</th>\n",
       "      <td>1</td>\n",
       "      <td>Mostly My Responsibility</td>\n",
       "      <td>Bachelor Degree</td>\n",
       "      <td>Agree</td>\n",
       "      <td>Strongly Disagree</td>\n",
       "      <td>Strongly Disagree</td>\n",
       "      <td>Strongly Agree</td>\n",
       "      <td>Strongly Disagree</td>\n",
       "      <td>Slightly Disagree</td>\n",
       "      <td>Strongly Disagree</td>\n",
       "      <td>Disagree</td>\n",
       "      <td>2</td>\n",
       "      <td>0</td>\n",
       "      <td>1.17</td>\n",
       "      <td>63</td>\n",
       "      <td>4</td>\n",
       "      <td>8</td>\n",
       "      <td>9</td>\n",
       "      <td>2.83</td>\n",
       "    </tr>\n",
       "    <tr>\n",
       "      <th>2</th>\n",
       "      <td>2</td>\n",
       "      <td>Equal Responsibility</td>\n",
       "      <td>Doctorate</td>\n",
       "      <td>Disagree</td>\n",
       "      <td>Slightly Disagree</td>\n",
       "      <td>Moderately Disagree</td>\n",
       "      <td>Slightly Agree</td>\n",
       "      <td>Strongly Agree</td>\n",
       "      <td>Slightly Disagree</td>\n",
       "      <td>Strongly Agree</td>\n",
       "      <td>Disagree</td>\n",
       "      <td>2</td>\n",
       "      <td>0</td>\n",
       "      <td>1.83</td>\n",
       "      <td>35</td>\n",
       "      <td>10</td>\n",
       "      <td>11</td>\n",
       "      <td>12</td>\n",
       "      <td>1.67</td>\n",
       "    </tr>\n",
       "    <tr>\n",
       "      <th>3</th>\n",
       "      <td>3</td>\n",
       "      <td>All My Responsibility</td>\n",
       "      <td>Associate Degree</td>\n",
       "      <td>Disagree</td>\n",
       "      <td>Strongly Disagree</td>\n",
       "      <td>Strongly Disagree</td>\n",
       "      <td>Moderately Disagree</td>\n",
       "      <td>Strongly Agree</td>\n",
       "      <td>Slightly Disagree</td>\n",
       "      <td>Slightly Agree</td>\n",
       "      <td>Disagree</td>\n",
       "      <td>21</td>\n",
       "      <td>0</td>\n",
       "      <td>4.17</td>\n",
       "      <td>58</td>\n",
       "      <td>6</td>\n",
       "      <td>10</td>\n",
       "      <td>10</td>\n",
       "      <td>2.33</td>\n",
       "    </tr>\n",
       "    <tr>\n",
       "      <th>4</th>\n",
       "      <td>4</td>\n",
       "      <td>Mostly My Responsibility</td>\n",
       "      <td>Some college (No Degree)</td>\n",
       "      <td>Agree</td>\n",
       "      <td>Moderately Agree</td>\n",
       "      <td>Strongly Disagree</td>\n",
       "      <td>Moderately Agree</td>\n",
       "      <td>Slightly Disagree</td>\n",
       "      <td>Slightly Disagree</td>\n",
       "      <td>Slightly Agree</td>\n",
       "      <td>Disagree</td>\n",
       "      <td>2</td>\n",
       "      <td>0</td>\n",
       "      <td>4.83</td>\n",
       "      <td>27</td>\n",
       "      <td>8</td>\n",
       "      <td>4</td>\n",
       "      <td>10</td>\n",
       "      <td>3.50</td>\n",
       "    </tr>\n",
       "    <tr>\n",
       "      <th>...</th>\n",
       "      <td>...</td>\n",
       "      <td>...</td>\n",
       "      <td>...</td>\n",
       "      <td>...</td>\n",
       "      <td>...</td>\n",
       "      <td>...</td>\n",
       "      <td>...</td>\n",
       "      <td>...</td>\n",
       "      <td>...</td>\n",
       "      <td>...</td>\n",
       "      <td>...</td>\n",
       "      <td>...</td>\n",
       "      <td>...</td>\n",
       "      <td>...</td>\n",
       "      <td>...</td>\n",
       "      <td>...</td>\n",
       "      <td>...</td>\n",
       "      <td>...</td>\n",
       "      <td>...</td>\n",
       "    </tr>\n",
       "    <tr>\n",
       "      <th>748</th>\n",
       "      <td>748</td>\n",
       "      <td>All My Responsibility</td>\n",
       "      <td>Master Degree</td>\n",
       "      <td>Disagree</td>\n",
       "      <td>Moderately Disagree</td>\n",
       "      <td>Strongly Disagree</td>\n",
       "      <td>Moderately Disagree</td>\n",
       "      <td>Moderately Agree</td>\n",
       "      <td>Strongly Agree</td>\n",
       "      <td>Strongly Agree</td>\n",
       "      <td>Disagree</td>\n",
       "      <td>1</td>\n",
       "      <td>0</td>\n",
       "      <td>1.00</td>\n",
       "      <td>29</td>\n",
       "      <td>12</td>\n",
       "      <td>11</td>\n",
       "      <td>10</td>\n",
       "      <td>1.67</td>\n",
       "    </tr>\n",
       "    <tr>\n",
       "      <th>749</th>\n",
       "      <td>749</td>\n",
       "      <td>Mostly Partner Responsibility</td>\n",
       "      <td>Bachelor Degree</td>\n",
       "      <td>Agree</td>\n",
       "      <td>Strongly Disagree</td>\n",
       "      <td>Strongly Disagree</td>\n",
       "      <td>Moderately Agree</td>\n",
       "      <td>Moderately Agree</td>\n",
       "      <td>Moderately Agree</td>\n",
       "      <td>Moderately Agree</td>\n",
       "      <td>Disagree</td>\n",
       "      <td>1</td>\n",
       "      <td>0</td>\n",
       "      <td>2.50</td>\n",
       "      <td>24</td>\n",
       "      <td>10</td>\n",
       "      <td>7</td>\n",
       "      <td>6</td>\n",
       "      <td>3.17</td>\n",
       "    </tr>\n",
       "    <tr>\n",
       "      <th>750</th>\n",
       "      <td>750</td>\n",
       "      <td>Equal Responsibility</td>\n",
       "      <td>Bachelor Degree</td>\n",
       "      <td>Agree</td>\n",
       "      <td>Moderately Disagree</td>\n",
       "      <td>Moderately Disagree</td>\n",
       "      <td>Moderately Agree</td>\n",
       "      <td>Slightly Agree</td>\n",
       "      <td>Slightly Agree</td>\n",
       "      <td>Slightly Agree</td>\n",
       "      <td>Agree</td>\n",
       "      <td>1</td>\n",
       "      <td>1</td>\n",
       "      <td>6.00</td>\n",
       "      <td>44</td>\n",
       "      <td>2</td>\n",
       "      <td>2</td>\n",
       "      <td>4</td>\n",
       "      <td>6.00</td>\n",
       "    </tr>\n",
       "    <tr>\n",
       "      <th>751</th>\n",
       "      <td>751</td>\n",
       "      <td>Equal Responsibility</td>\n",
       "      <td>Master Degree</td>\n",
       "      <td>Agree</td>\n",
       "      <td>Strongly Disagree</td>\n",
       "      <td>Strongly Disagree</td>\n",
       "      <td>Strongly Agree</td>\n",
       "      <td>Moderately Disagree</td>\n",
       "      <td>Strongly Disagree</td>\n",
       "      <td>Strongly Agree</td>\n",
       "      <td>Disagree</td>\n",
       "      <td>1</td>\n",
       "      <td>2</td>\n",
       "      <td>4.00</td>\n",
       "      <td>37</td>\n",
       "      <td>6</td>\n",
       "      <td>6</td>\n",
       "      <td>10</td>\n",
       "      <td>2.50</td>\n",
       "    </tr>\n",
       "    <tr>\n",
       "      <th>752</th>\n",
       "      <td>752</td>\n",
       "      <td>Equal Responsibility</td>\n",
       "      <td>Master Degree</td>\n",
       "      <td>Agree</td>\n",
       "      <td>Slightly Agree</td>\n",
       "      <td>Strongly Disagree</td>\n",
       "      <td>Slightly Disagree</td>\n",
       "      <td>Moderately Disagree</td>\n",
       "      <td>Strongly Disagree</td>\n",
       "      <td>Strongly Agree</td>\n",
       "      <td>Agree</td>\n",
       "      <td>1</td>\n",
       "      <td>1</td>\n",
       "      <td>1.00</td>\n",
       "      <td>34</td>\n",
       "      <td>6</td>\n",
       "      <td>11</td>\n",
       "      <td>10</td>\n",
       "      <td>5.33</td>\n",
       "    </tr>\n",
       "  </tbody>\n",
       "</table>\n",
       "<p>753 rows × 19 columns</p>\n",
       "</div>"
      ],
      "text/plain": [
       "     Unnamed: 0                        HseCare                       Edu  \\\n",
       "0             0           Equal Responsibility           Bachelor Degree   \n",
       "1             1       Mostly My Responsibility           Bachelor Degree   \n",
       "2             2           Equal Responsibility                 Doctorate   \n",
       "3             3          All My Responsibility          Associate Degree   \n",
       "4             4       Mostly My Responsibility  Some college (No Degree)   \n",
       "..          ...                            ...                       ...   \n",
       "748         748          All My Responsibility             Master Degree   \n",
       "749         749  Mostly Partner Responsibility           Bachelor Degree   \n",
       "750         750           Equal Responsibility           Bachelor Degree   \n",
       "751         751           Equal Responsibility             Master Degree   \n",
       "752         752           Equal Responsibility             Master Degree   \n",
       "\n",
       "       ChgEmp               GenDis               EthDis           MissFamAct  \\\n",
       "0       Agree    Strongly Disagree    Strongly Disagree  Moderately Disagree   \n",
       "1       Agree    Strongly Disagree    Strongly Disagree       Strongly Agree   \n",
       "2    Disagree    Slightly Disagree  Moderately Disagree       Slightly Agree   \n",
       "3    Disagree    Strongly Disagree    Strongly Disagree  Moderately Disagree   \n",
       "4       Agree     Moderately Agree    Strongly Disagree     Moderately Agree   \n",
       "..        ...                  ...                  ...                  ...   \n",
       "748  Disagree  Moderately Disagree    Strongly Disagree  Moderately Disagree   \n",
       "749     Agree    Strongly Disagree    Strongly Disagree     Moderately Agree   \n",
       "750     Agree  Moderately Disagree  Moderately Disagree     Moderately Agree   \n",
       "751     Agree    Strongly Disagree    Strongly Disagree       Strongly Agree   \n",
       "752     Agree       Slightly Agree    Strongly Disagree    Slightly Disagree   \n",
       "\n",
       "                PaidFair             EmpBft              EnjCo  InfByOth  \\\n",
       "0      Strongly Disagree   Moderately Agree   Moderately Agree  Disagree   \n",
       "1      Strongly Disagree  Slightly Disagree  Strongly Disagree  Disagree   \n",
       "2         Strongly Agree  Slightly Disagree     Strongly Agree  Disagree   \n",
       "3         Strongly Agree  Slightly Disagree     Slightly Agree  Disagree   \n",
       "4      Slightly Disagree  Slightly Disagree     Slightly Agree  Disagree   \n",
       "..                   ...                ...                ...       ...   \n",
       "748     Moderately Agree     Strongly Agree     Strongly Agree  Disagree   \n",
       "749     Moderately Agree   Moderately Agree   Moderately Agree  Disagree   \n",
       "750       Slightly Agree     Slightly Agree     Slightly Agree     Agree   \n",
       "751  Moderately Disagree  Strongly Disagree     Strongly Agree  Disagree   \n",
       "752  Moderately Disagree  Strongly Disagree     Strongly Agree     Agree   \n",
       "\n",
       "     YrsCurEmp  NumChild  Stress  Age  Promo  OpProc  Supvr  IntLvEmp  \n",
       "0           17         2    1.50   42      8      10     12      2.67  \n",
       "1            2         0    1.17   63      4       8      9      2.83  \n",
       "2            2         0    1.83   35     10      11     12      1.67  \n",
       "3           21         0    4.17   58      6      10     10      2.33  \n",
       "4            2         0    4.83   27      8       4     10      3.50  \n",
       "..         ...       ...     ...  ...    ...     ...    ...       ...  \n",
       "748          1         0    1.00   29     12      11     10      1.67  \n",
       "749          1         0    2.50   24     10       7      6      3.17  \n",
       "750          1         1    6.00   44      2       2      4      6.00  \n",
       "751          1         2    4.00   37      6       6     10      2.50  \n",
       "752          1         1    1.00   34      6      11     10      5.33  \n",
       "\n",
       "[753 rows x 19 columns]"
      ]
     },
     "execution_count": 3,
     "metadata": {},
     "output_type": "execute_result"
    }
   ],
   "source": [
    "# Importing data\n",
    "df = pd.read_csv('clean_data.csv')\n",
    "df"
   ]
  },
  {
   "cell_type": "markdown",
   "id": "4ce77a8c",
   "metadata": {},
   "source": [
    "### Pre-processing of data"
   ]
  },
  {
   "cell_type": "code",
   "execution_count": 4,
   "id": "24c66390",
   "metadata": {},
   "outputs": [
    {
     "name": "stdout",
     "output_type": "stream",
     "text": [
      "<class 'pandas.core.frame.DataFrame'>\n",
      "RangeIndex: 753 entries, 0 to 752\n",
      "Data columns (total 52 columns):\n",
      " #   Column                                 Non-Null Count  Dtype  \n",
      "---  ------                                 --------------  -----  \n",
      " 0   HseCare_All My Responsibility          753 non-null    float64\n",
      " 1   HseCare_All Partner Responsibility     753 non-null    float64\n",
      " 2   HseCare_Equal Responsibility           753 non-null    float64\n",
      " 3   HseCare_Mostly My Responsibility       753 non-null    float64\n",
      " 4   HseCare_Mostly Partner Responsibility  753 non-null    float64\n",
      " 5   HseCare_No Partner                     753 non-null    float64\n",
      " 6   GenDis_Moderately Agree                753 non-null    float64\n",
      " 7   GenDis_Moderately Disagree             753 non-null    float64\n",
      " 8   GenDis_Slightly Agree                  753 non-null    float64\n",
      " 9   GenDis_Slightly Disagree               753 non-null    float64\n",
      " 10  GenDis_Strongly Agree                  753 non-null    float64\n",
      " 11  GenDis_Strongly Disagree               753 non-null    float64\n",
      " 12  EthDis_Moderately Agree                753 non-null    float64\n",
      " 13  EthDis_Moderately Disagree             753 non-null    float64\n",
      " 14  EthDis_Slightly Agree                  753 non-null    float64\n",
      " 15  EthDis_Slightly Disagree               753 non-null    float64\n",
      " 16  EthDis_Strongly Agree                  753 non-null    float64\n",
      " 17  EthDis_Strongly Disagree               753 non-null    float64\n",
      " 18  MissFamAct_Moderately Agree            753 non-null    float64\n",
      " 19  MissFamAct_Moderately Disagree         753 non-null    float64\n",
      " 20  MissFamAct_Slightly Agree              753 non-null    float64\n",
      " 21  MissFamAct_Slightly Disagree           753 non-null    float64\n",
      " 22  MissFamAct_Strongly Agree              753 non-null    float64\n",
      " 23  MissFamAct_Strongly Disagree           753 non-null    float64\n",
      " 24  PaidFair_Moderately Agree              753 non-null    float64\n",
      " 25  PaidFair_Moderately Disagree           753 non-null    float64\n",
      " 26  PaidFair_Slightly Agree                753 non-null    float64\n",
      " 27  PaidFair_Slightly Disagree             753 non-null    float64\n",
      " 28  PaidFair_Strongly Agree                753 non-null    float64\n",
      " 29  PaidFair_Strongly Disagree             753 non-null    float64\n",
      " 30  EmpBft_Moderately Agree                753 non-null    float64\n",
      " 31  EmpBft_Moderately Disagree             753 non-null    float64\n",
      " 32  EmpBft_Slightly Agree                  753 non-null    float64\n",
      " 33  EmpBft_Slightly Disagree               753 non-null    float64\n",
      " 34  EmpBft_Strongly Agree                  753 non-null    float64\n",
      " 35  EmpBft_Strongly Disagree               753 non-null    float64\n",
      " 36  EnjCo_Moderately Agree                 753 non-null    float64\n",
      " 37  EnjCo_Moderately Disagree              753 non-null    float64\n",
      " 38  EnjCo_Slightly Agree                   753 non-null    float64\n",
      " 39  EnjCo_Slightly Disagree                753 non-null    float64\n",
      " 40  EnjCo_Strongly Agree                   753 non-null    float64\n",
      " 41  EnjCo_Strongly Disagree                753 non-null    float64\n",
      " 42  Edu_Associate Degree                   753 non-null    float64\n",
      " 43  Edu_Bachelor Degree                    753 non-null    float64\n",
      " 44  Edu_Doctorate                          753 non-null    float64\n",
      " 45  Edu_High School Graduate or GED        753 non-null    float64\n",
      " 46  Edu_Master Degree                      753 non-null    float64\n",
      " 47  Edu_Professional Degree                753 non-null    float64\n",
      " 48  Edu_Some college (No Degree)           753 non-null    float64\n",
      " 49  Edu_Technical Training                 753 non-null    float64\n",
      " 50  InfByOth_Agree                         753 non-null    float64\n",
      " 51  InfByOth_Disagree                      753 non-null    float64\n",
      "dtypes: float64(52)\n",
      "memory usage: 306.0 KB\n"
     ]
    }
   ],
   "source": [
    "### Using One-Hot Encoding to change categorical variables to integerss for processing by Random Forest model\n",
    "\n",
    "ohe = OneHotEncoder()\n",
    "\n",
    "# OneHotEncoding of categorical predictors \n",
    "df_cat = df[['HseCare', 'GenDis', 'EthDis', 'MissFamAct', 'PaidFair', 'EmpBft', 'EnjCo', 'Edu', 'InfByOth']]\n",
    "ohe.fit(df_cat)\n",
    "df_cat_ohe = pd.DataFrame(ohe.transform(df_cat).toarray(), columns=ohe.get_feature_names_out(df_cat.columns))\n",
    "\n",
    "# Check the encoded variables\n",
    "df_cat_ohe.info()"
   ]
  },
  {
   "cell_type": "code",
   "execution_count": 5,
   "id": "706c7f8a",
   "metadata": {},
   "outputs": [
    {
     "name": "stdout",
     "output_type": "stream",
     "text": [
      "<class 'pandas.core.frame.DataFrame'>\n",
      "RangeIndex: 753 entries, 0 to 752\n",
      "Data columns (total 60 columns):\n",
      " #   Column                                 Non-Null Count  Dtype  \n",
      "---  ------                                 --------------  -----  \n",
      " 0   YrsCurEmp                              753 non-null    int64  \n",
      " 1   NumChild                               753 non-null    int64  \n",
      " 2   Stress                                 753 non-null    float64\n",
      " 3   Age                                    753 non-null    int64  \n",
      " 4   Promo                                  753 non-null    int64  \n",
      " 5   OpProc                                 753 non-null    int64  \n",
      " 6   Supvr                                  753 non-null    int64  \n",
      " 7   HseCare_All My Responsibility          753 non-null    float64\n",
      " 8   HseCare_All Partner Responsibility     753 non-null    float64\n",
      " 9   HseCare_Equal Responsibility           753 non-null    float64\n",
      " 10  HseCare_Mostly My Responsibility       753 non-null    float64\n",
      " 11  HseCare_Mostly Partner Responsibility  753 non-null    float64\n",
      " 12  HseCare_No Partner                     753 non-null    float64\n",
      " 13  GenDis_Moderately Agree                753 non-null    float64\n",
      " 14  GenDis_Moderately Disagree             753 non-null    float64\n",
      " 15  GenDis_Slightly Agree                  753 non-null    float64\n",
      " 16  GenDis_Slightly Disagree               753 non-null    float64\n",
      " 17  GenDis_Strongly Agree                  753 non-null    float64\n",
      " 18  GenDis_Strongly Disagree               753 non-null    float64\n",
      " 19  EthDis_Moderately Agree                753 non-null    float64\n",
      " 20  EthDis_Moderately Disagree             753 non-null    float64\n",
      " 21  EthDis_Slightly Agree                  753 non-null    float64\n",
      " 22  EthDis_Slightly Disagree               753 non-null    float64\n",
      " 23  EthDis_Strongly Agree                  753 non-null    float64\n",
      " 24  EthDis_Strongly Disagree               753 non-null    float64\n",
      " 25  MissFamAct_Moderately Agree            753 non-null    float64\n",
      " 26  MissFamAct_Moderately Disagree         753 non-null    float64\n",
      " 27  MissFamAct_Slightly Agree              753 non-null    float64\n",
      " 28  MissFamAct_Slightly Disagree           753 non-null    float64\n",
      " 29  MissFamAct_Strongly Agree              753 non-null    float64\n",
      " 30  MissFamAct_Strongly Disagree           753 non-null    float64\n",
      " 31  PaidFair_Moderately Agree              753 non-null    float64\n",
      " 32  PaidFair_Moderately Disagree           753 non-null    float64\n",
      " 33  PaidFair_Slightly Agree                753 non-null    float64\n",
      " 34  PaidFair_Slightly Disagree             753 non-null    float64\n",
      " 35  PaidFair_Strongly Agree                753 non-null    float64\n",
      " 36  PaidFair_Strongly Disagree             753 non-null    float64\n",
      " 37  EmpBft_Moderately Agree                753 non-null    float64\n",
      " 38  EmpBft_Moderately Disagree             753 non-null    float64\n",
      " 39  EmpBft_Slightly Agree                  753 non-null    float64\n",
      " 40  EmpBft_Slightly Disagree               753 non-null    float64\n",
      " 41  EmpBft_Strongly Agree                  753 non-null    float64\n",
      " 42  EmpBft_Strongly Disagree               753 non-null    float64\n",
      " 43  EnjCo_Moderately Agree                 753 non-null    float64\n",
      " 44  EnjCo_Moderately Disagree              753 non-null    float64\n",
      " 45  EnjCo_Slightly Agree                   753 non-null    float64\n",
      " 46  EnjCo_Slightly Disagree                753 non-null    float64\n",
      " 47  EnjCo_Strongly Agree                   753 non-null    float64\n",
      " 48  EnjCo_Strongly Disagree                753 non-null    float64\n",
      " 49  Edu_Associate Degree                   753 non-null    float64\n",
      " 50  Edu_Bachelor Degree                    753 non-null    float64\n",
      " 51  Edu_Doctorate                          753 non-null    float64\n",
      " 52  Edu_High School Graduate or GED        753 non-null    float64\n",
      " 53  Edu_Master Degree                      753 non-null    float64\n",
      " 54  Edu_Professional Degree                753 non-null    float64\n",
      " 55  Edu_Some college (No Degree)           753 non-null    float64\n",
      " 56  Edu_Technical Training                 753 non-null    float64\n",
      " 57  InfByOth_Agree                         753 non-null    float64\n",
      " 58  InfByOth_Disagree                      753 non-null    float64\n",
      " 59  ChgEmp                                 753 non-null    object \n",
      "dtypes: float64(53), int64(6), object(1)\n",
      "memory usage: 353.1+ KB\n"
     ]
    }
   ],
   "source": [
    "# Combining Numeric features with the OHE Categorical features\n",
    "df_num = df[['YrsCurEmp', 'NumChild', 'Stress', 'Age', 'Promo', 'OpProc', 'Supvr']]\n",
    "df_res = df['ChgEmp']\n",
    "df_ohe = pd.concat([df_num, df_cat_ohe, df_res], sort = False, axis = 1).reindex(index=df_num.index)\n",
    "\n",
    "# Check the final dataframe\n",
    "df_ohe.info()"
   ]
  },
  {
   "cell_type": "code",
   "execution_count": 6,
   "id": "4b7cda8d",
   "metadata": {},
   "outputs": [
    {
     "data": {
      "text/plain": [
       "Agree       509\n",
       "Disagree    244\n",
       "Name: ChgEmp, dtype: int64"
      ]
     },
     "execution_count": 6,
     "metadata": {},
     "output_type": "execute_result"
    }
   ],
   "source": [
    "# Check the ratio of the classes in 'ChgEmp'\n",
    "df_ohe['ChgEmp'].value_counts()"
   ]
  },
  {
   "cell_type": "code",
   "execution_count": 7,
   "id": "48db469d",
   "metadata": {},
   "outputs": [
    {
     "data": {
      "text/plain": [
       "Agree       509\n",
       "Disagree    509\n",
       "Name: ChgEmp, dtype: int64"
      ]
     },
     "execution_count": 7,
     "metadata": {},
     "output_type": "execute_result"
    }
   ],
   "source": [
    "# Balance the 'ChgEmp' response variable\n",
    "\n",
    "# Upsample Disagree to match Agree\n",
    "from sklearn.utils import resample\n",
    "\n",
    "ChgEmpAgree = df_ohe[df_ohe.ChgEmp == 'Agree']\n",
    "ChgEmpDisagree = df_ohe[df_ohe.ChgEmp == 'Disagree']\n",
    " \n",
    "# Upsample the Disagree samples\n",
    "ChgEmpDisagree_up = resample(ChgEmpDisagree, replace=True, n_samples=ChgEmpAgree.shape[0])   \n",
    " \n",
    "# Combine the two classes back after upsampling\n",
    "df_ohe_up = pd.concat([ChgEmpAgree, ChgEmpDisagree_up])\n",
    " \n",
    "# Check the ratio of the classes\n",
    "df_ohe_up['ChgEmp'].value_counts()"
   ]
  },
  {
   "cell_type": "code",
   "execution_count": 8,
   "id": "bc3a101b",
   "metadata": {},
   "outputs": [],
   "source": [
    "# Extract Response and Predictors\n",
    "y = pd.DataFrame(df_ohe_up['ChgEmp'])\n",
    "X = pd.DataFrame(df_ohe_up.drop('ChgEmp', axis = 1))\n",
    "\n",
    "X_train, X_test, y_train, y_test = train_test_split(X, y, test_size = 0.2)"
   ]
  },
  {
   "cell_type": "markdown",
   "id": "fe1fd2d7",
   "metadata": {},
   "source": [
    "### Selection of  potential features that are good predictors of the response variable\n",
    "\n",
    "Potential features that best predicts the response variable in the training dataset will be determined using the SelectFromModel function from sickitlearn feature selection module. The Random Forest Classifier model (with the parameters n_estimators=100, max_depth=10) will be passed in as a parameter of the SelectFromModel function."
   ]
  },
  {
   "cell_type": "code",
   "execution_count": 9,
   "id": "74ee33ba",
   "metadata": {},
   "outputs": [],
   "source": [
    "# Random Forest Classifier model\n",
    "rf = RandomForestClassifier(n_estimators = 100, max_depth=10)"
   ]
  },
  {
   "cell_type": "code",
   "execution_count": 10,
   "id": "acee9a5a",
   "metadata": {},
   "outputs": [
    {
     "data": {
      "text/plain": [
       "SelectFromModel(estimator=RandomForestClassifier(max_depth=10))"
      ]
     },
     "execution_count": 10,
     "metadata": {},
     "output_type": "execute_result"
    }
   ],
   "source": [
    "# Feature selection using the train dataset \n",
    "sel = SelectFromModel(rf) \n",
    "sel.fit(X_train, y_train.ChgEmp.ravel())"
   ]
  },
  {
   "cell_type": "code",
   "execution_count": 11,
   "id": "1215a981",
   "metadata": {},
   "outputs": [
    {
     "data": {
      "text/plain": [
       "8"
      ]
     },
     "execution_count": 11,
     "metadata": {},
     "output_type": "execute_result"
    }
   ],
   "source": [
    "# Number of selected features\n",
    "sel.get_support()\n",
    "selected_feat= X_train.columns[(sel.get_support())]\n",
    "len(selected_feat)"
   ]
  },
  {
   "cell_type": "code",
   "execution_count": 12,
   "id": "43c542ef",
   "metadata": {},
   "outputs": [
    {
     "name": "stdout",
     "output_type": "stream",
     "text": [
      "Index(['YrsCurEmp', 'NumChild', 'Stress', 'Age', 'Promo', 'OpProc', 'Supvr',\n",
      "       'PaidFair_Moderately Agree'],\n",
      "      dtype='object')\n"
     ]
    }
   ],
   "source": [
    "# Printing names of selected features\n",
    "print(selected_feat)"
   ]
  },
  {
   "cell_type": "code",
   "execution_count": 13,
   "id": "0292554c",
   "metadata": {},
   "outputs": [],
   "source": [
    "# Updating the X datasets with the selected variables\n",
    "X_train_selected = pd.DataFrame(X_train[['YrsCurEmp', 'NumChild', 'Stress', 'Age', 'Promo', 'OpProc', 'Supvr',\n",
    "       'PaidFair_Moderately Agree']])\n",
    "X_test_selected = pd.DataFrame(X_test[['YrsCurEmp', 'NumChild', 'Stress', 'Age', 'Promo', 'OpProc', 'Supvr',\n",
    "       'PaidFair_Moderately Agree']])"
   ]
  },
  {
   "cell_type": "code",
   "execution_count": 14,
   "id": "4b388c4f",
   "metadata": {},
   "outputs": [
    {
     "data": {
      "text/plain": [
       "Stress                       0.198332\n",
       "Promo                        0.159649\n",
       "Age                          0.159401\n",
       "Supvr                        0.141496\n",
       "YrsCurEmp                    0.141316\n",
       "OpProc                       0.107141\n",
       "NumChild                     0.059009\n",
       "PaidFair_Moderately Agree    0.033658\n",
       "dtype: float64"
      ]
     },
     "execution_count": 14,
     "metadata": {},
     "output_type": "execute_result"
    },
    {
     "data": {
      "image/png": "[encoded data removed]",
      "text/plain": [
       "<Figure size 864x864 with 1 Axes>"
      ]
     },
     "metadata": {},
     "output_type": "display_data"
    }
   ],
   "source": [
    "rf.fit(X_train_selected, y_train.ChgEmp.ravel())\n",
    "\n",
    "# Create a series containing feature importances from the model and feature names from the training data\n",
    "feature_importances = pd.Series(rf.feature_importances_, index=X_train_selected.columns).sort_values(ascending=False)\n",
    "\n",
    "# Plot a simple bar chart\n",
    "fig = plt.figure(figsize=(12, 12))\n",
    "feature_importances.plot.bar();\n",
    "\n",
    "feature_importances"
   ]
  },
  {
   "cell_type": "markdown",
   "id": "eb560cf6",
   "metadata": {},
   "source": [
    "### Determing which feature best predicts the response variable\n",
    "\n",
    "4 models will be created to test which feature best predicts an employee's intention to leave employer.\n",
    "\n",
    "### Model 1: \n",
    "\n",
    "Predictor Variables: 'Stress', 'YrsCurEmp', 'NumChild', 'OpProc', 'Supvr', 'PaidFair_Moderately Agree' (all selected variables except 'Age' and 'Promo')\n",
    "\n",
    "Response Variable: 'ChgEmp'\n",
    "\n",
    "### Model 2:\n",
    "\n",
    "Predictor Variables: 'Promo', 'YrsCurEmp', 'NumChild', 'OpProc', 'Supvr', 'PaidFair_Moderately Agree' (all selected variables except 'Age' and 'Stress') \n",
    "\n",
    "Response Variable: 'ChgEmp'\n",
    "\n",
    "### Model 3: \n",
    "\n",
    "Predictor Variables: 'Age', 'YrsCurEmp', 'NumChild', 'OpProc', 'Supvr', 'PaidFair_Moderately Agree'  (all selected variables except 'Stress' and 'Promo')\n",
    "\n",
    "Response Variable: 'ChgEmp'\n",
    "\n",
    "### Model 4: \n",
    "\n",
    "Predictor Variables: 'YrsCurEmp', 'NumChild', 'OpProc', 'Supvr', 'PaidFair_Moderately Agree' (all selected variables except 'Promo', 'Stress', 'Age')\n",
    "\n",
    "Response Variable: 'ChgEmp'\n",
    "\n",
    "The same Random Forest Classifier will be used for all models."
   ]
  },
  {
   "cell_type": "markdown",
   "id": "529c940d",
   "metadata": {},
   "source": [
    "### Determining which model best predicts the response variable\n",
    "\n",
    "Model 5 will be created to compare with the other models to evaluate which model is the best at predicting the response variable\n",
    "\n",
    "### Model 5:\n",
    "\n",
    "Predictor Variables: 'YrsCurEmp', 'NumChild', 'Stress', 'Age', 'Promo', 'OpProc', 'Supvr', 'PaidFair_Moderately Agree'\n",
    "\n",
    "Response Variable: 'ChgEmp'\n",
    "\n",
    "The same Random Forest Classifier will be used for this model."
   ]
  },
  {
   "cell_type": "code",
   "execution_count": 15,
   "id": "161d2e91",
   "metadata": {},
   "outputs": [],
   "source": [
    "# Creating the datasets for all the models \n",
    "X_train_model1 = pd.DataFrame(X_train[['Stress', 'YrsCurEmp', 'NumChild', 'OpProc', 'Supvr', 'PaidFair_Moderately Agree']])\n",
    "X_test_model1 = pd.DataFrame(X_test[['Stress', 'YrsCurEmp', 'NumChild', 'OpProc', 'Supvr', 'PaidFair_Moderately Agree']])\n",
    "\n",
    "X_train_model2 = pd.DataFrame(X_train[['Promo', 'YrsCurEmp', 'NumChild', 'OpProc', 'Supvr', 'PaidFair_Moderately Agree']])\n",
    "X_test_model2 = pd.DataFrame(X_test[['Promo', 'YrsCurEmp', 'NumChild', 'OpProc', 'Supvr', 'PaidFair_Moderately Agree']])\n",
    "\n",
    "X_train_model3 = pd.DataFrame(X_train[['Age', 'YrsCurEmp', 'NumChild', 'OpProc', 'Supvr', 'PaidFair_Moderately Agree']])\n",
    "X_test_model3 = pd.DataFrame(X_test[['Age', 'YrsCurEmp', 'NumChild', 'OpProc', 'Supvr', 'PaidFair_Moderately Agree']])\n",
    "\n",
    "X_train_model4 = pd.DataFrame(X_train[['YrsCurEmp', 'NumChild', 'Stress', 'Age', 'Promo', 'OpProc', 'Supvr', 'PaidFair_Moderately Agree']])\n",
    "X_test_model4 = pd.DataFrame(X_test[['YrsCurEmp', 'NumChild', 'Stress', 'Age', 'Promo', 'OpProc', 'Supvr', 'PaidFair_Moderately Agree']])\n"
   ]
  },
  {
   "cell_type": "markdown",
   "id": "1a5af778",
   "metadata": {},
   "source": [
    "## Model 1"
   ]
  },
  {
   "cell_type": "code",
   "execution_count": 16,
   "id": "6b297c20",
   "metadata": {},
   "outputs": [
    {
     "data": {
      "text/plain": [
       "RandomForestClassifier(max_depth=10)"
      ]
     },
     "execution_count": 16,
     "metadata": {},
     "output_type": "execute_result"
    }
   ],
   "source": [
    "# Fit Random Forest on Train Data\n",
    "rf.fit(X_train_model1, y_train.ChgEmp.ravel())"
   ]
  },
  {
   "cell_type": "code",
   "execution_count": 17,
   "id": "8ec859ae",
   "metadata": {},
   "outputs": [
    {
     "name": "stdout",
     "output_type": "stream",
     "text": [
      "Train Data\n",
      "Accuracy  :\t 0.9631449631449631\n",
      "\n",
      "TPR Train :\t 0.9949622166246851\n",
      "TNR Train :\t 0.9328537170263789\n",
      "\n",
      "FPR Train :\t 0.0671462829736211\n",
      "FNR Train :\t 0.005037783375314861\n"
     ]
    },
    {
     "data": {
      "text/plain": [
       "<AxesSubplot:>"
      ]
     },
     "execution_count": 17,
     "metadata": {},
     "output_type": "execute_result"
    },
    {
     "data": {
      "image/png": "[encoded data removed]",
      "text/plain": [
       "<Figure size 432x288 with 2 Axes>"
      ]
     },
     "metadata": {},
     "output_type": "display_data"
    }
   ],
   "source": [
    "# Predict the Response corresponding to Predictors\n",
    "y_train_pred = rf.predict(X_train_model1)\n",
    "\n",
    "# Print the Classification Accuracy\n",
    "m1_train_ca = rf.score(X_train_model1, y_train)\n",
    "print(\"Train Data\")\n",
    "print(\"Accuracy  :\\t\", m1_train_ca)\n",
    "print()\n",
    "\n",
    "# Print the Accuracy Measures from the Confusion Matrix\n",
    "cmTrain = confusion_matrix(y_train, y_train_pred)\n",
    "tpTrain = cmTrain[1][1] \n",
    "fpTrain = cmTrain[0][1] \n",
    "tnTrain = cmTrain[0][0] \n",
    "fnTrain = cmTrain[1][0] \n",
    "\n",
    "m1_train_tpr = tpTrain/(tpTrain + fnTrain)\n",
    "m1_train_tnr = tnTrain/(tnTrain + fpTrain)\n",
    "\n",
    "print(\"TPR Train :\\t\", m1_train_tpr)\n",
    "print(\"TNR Train :\\t\", m1_train_tnr)\n",
    "print()\n",
    "\n",
    "m1_train_fpr = fpTrain/(tnTrain + fpTrain)\n",
    "m1_train_fnr = fnTrain/(tpTrain + fnTrain)\n",
    "\n",
    "print(\"FPR Train :\\t\", m1_train_fpr)\n",
    "print(\"FNR Train :\\t\", m1_train_fnr)\n",
    "\n",
    "# Plot the two-way Confusion Matrix\n",
    "sb.heatmap(confusion_matrix(y_train, y_train_pred), \n",
    "           annot = True, fmt=\".0f\", annot_kws={\"size\": 18})"
   ]
  },
  {
   "cell_type": "code",
   "execution_count": 18,
   "id": "b622e442",
   "metadata": {},
   "outputs": [
    {
     "name": "stdout",
     "output_type": "stream",
     "text": [
      "Test Data\n",
      "Accuracy  :\t 0.8137254901960784\n",
      "\n",
      "TPR Test :\t 0.8214285714285714\n",
      "TNR Test :\t 0.8043478260869565\n",
      "\n",
      "FPR Test :\t 0.1956521739130435\n",
      "FNR Test :\t 0.17857142857142858\n"
     ]
    },
    {
     "data": {
      "text/plain": [
       "<AxesSubplot:>"
      ]
     },
     "execution_count": 18,
     "metadata": {},
     "output_type": "execute_result"
    },
    {
     "data": {
      "image/png": "[encoded data removed]",
      "text/plain": [
       "<Figure size 432x288 with 2 Axes>"
      ]
     },
     "metadata": {},
     "output_type": "display_data"
    }
   ],
   "source": [
    "# Predict the Response corresponding to Predictors\n",
    "y_test_pred = rf.predict(X_test_model1)\n",
    "\n",
    "# Print the Classification Accuracy\n",
    "m1_test_ca = rf.score(X_test_model1, y_test)\n",
    "print(\"Test Data\")\n",
    "print(\"Accuracy  :\\t\", m1_test_ca)\n",
    "print()\n",
    "\n",
    "# Print the Accuracy Measures from the Confusion Matrix\n",
    "cmTest = confusion_matrix(y_test, y_test_pred)\n",
    "tpTest = cmTest[1][1]\n",
    "fpTest = cmTest[0][1] \n",
    "tnTest = cmTest[0][0] \n",
    "fnTest = cmTest[1][0] \n",
    "\n",
    "m1_test_tpr = tpTest/(tpTest + fnTest)\n",
    "m1_test_tnr = tnTest/(tnTest + fpTest)\n",
    "\n",
    "print(\"TPR Test :\\t\", m1_test_tpr)\n",
    "print(\"TNR Test :\\t\", m1_test_tnr)\n",
    "print()\n",
    "\n",
    "m1_test_fpr = fpTest/(tnTest + fpTest)\n",
    "m1_test_fnr = fnTest/(tpTest + fnTest)\n",
    "\n",
    "print(\"FPR Test :\\t\", m1_test_fpr)\n",
    "print(\"FNR Test :\\t\", m1_test_fnr)\n",
    "\n",
    "# Plot the two-way Confusion Matrix\n",
    "sb.heatmap(confusion_matrix(y_test, y_test_pred), \n",
    "           annot = True, fmt=\".0f\", annot_kws={\"size\": 18})"
   ]
  },
  {
   "cell_type": "code",
   "execution_count": 19,
   "id": "7263e92b",
   "metadata": {},
   "outputs": [
    {
     "name": "stdout",
     "output_type": "stream",
     "text": [
      "              precision    recall  f1-score   support\n",
      "\n",
      "       Agree       0.79      0.80      0.80        92\n",
      "    Disagree       0.84      0.82      0.83       112\n",
      "\n",
      "    accuracy                           0.81       204\n",
      "   macro avg       0.81      0.81      0.81       204\n",
      "weighted avg       0.81      0.81      0.81       204\n",
      "\n"
     ]
    }
   ],
   "source": [
    "# Print the f1 score\n",
    "m1_test_f1 = metrics.f1_score(y_test, y_test_pred, pos_label='Disagree')\n",
    "print(metrics.classification_report(y_test, y_test_pred))"
   ]
  },
  {
   "cell_type": "code",
   "execution_count": 20,
   "id": "a45a9117",
   "metadata": {},
   "outputs": [
    {
     "data": {
      "image/png": "[encoded data removed]",
      "text/plain": [
       "<Figure size 432x288 with 1 Axes>"
      ]
     },
     "metadata": {},
     "output_type": "display_data"
    }
   ],
   "source": [
    "#define metrics\n",
    "y_pred_proba = rf.predict_proba(X_test_model1)[::,1]\n",
    "fpr, tpr, _ = metrics.roc_curve(y_test,  y_pred_proba, pos_label='Disagree')\n",
    "m1_test_auc = metrics.roc_auc_score(y_test, y_pred_proba)\n",
    "\n",
    "#create ROC curve\n",
    "plt.plot(fpr,tpr,label=\"AUC=\"+str(m1_test_auc))\n",
    "plt.ylabel('True Positive Rate')\n",
    "plt.xlabel('False Positive Rate')\n",
    "plt.legend(loc=4)\n",
    "plt.show()"
   ]
  },
  {
   "cell_type": "markdown",
   "id": "256c696a",
   "metadata": {},
   "source": [
    "## Model 2"
   ]
  },
  {
   "cell_type": "code",
   "execution_count": 21,
   "id": "af272d04",
   "metadata": {},
   "outputs": [
    {
     "data": {
      "text/plain": [
       "RandomForestClassifier(max_depth=10)"
      ]
     },
     "execution_count": 21,
     "metadata": {},
     "output_type": "execute_result"
    }
   ],
   "source": [
    "# Fit Random Forest on Train Data\n",
    "rf.fit(X_train_model2, y_train.ChgEmp.ravel())"
   ]
  },
  {
   "cell_type": "code",
   "execution_count": 22,
   "id": "0e578807",
   "metadata": {},
   "outputs": [
    {
     "name": "stdout",
     "output_type": "stream",
     "text": [
      "Train Data\n",
      "Accuracy  :\t 0.9508599508599509\n",
      "\n",
      "TPR Train :\t 0.9874055415617129\n",
      "TNR Train :\t 0.9160671462829736\n",
      "\n",
      "FPR Train :\t 0.08393285371702638\n",
      "FNR Train :\t 0.012594458438287154\n"
     ]
    },
    {
     "data": {
      "text/plain": [
       "<AxesSubplot:>"
      ]
     },
     "execution_count": 22,
     "metadata": {},
     "output_type": "execute_result"
    },
    {
     "data": {
      "image/png": "[encoded data removed]",
      "text/plain": [
       "<Figure size 432x288 with 2 Axes>"
      ]
     },
     "metadata": {},
     "output_type": "display_data"
    }
   ],
   "source": [
    "# Predict the Response corresponding to Predictors\n",
    "y_train_pred = rf.predict(X_train_model2)\n",
    "\n",
    "# Print the Classification Accuracy\n",
    "m2_train_ca = rf.score(X_train_model2, y_train)\n",
    "print(\"Train Data\")\n",
    "print(\"Accuracy  :\\t\", m2_train_ca)\n",
    "print()\n",
    "\n",
    "# Print the Accuracy Measures from the Confusion Matrix\n",
    "cmTrain = confusion_matrix(y_train, y_train_pred)\n",
    "tpTrain = cmTrain[1][1] \n",
    "fpTrain = cmTrain[0][1] \n",
    "tnTrain = cmTrain[0][0] \n",
    "fnTrain = cmTrain[1][0] \n",
    "\n",
    "m2_train_tpr = tpTrain/(tpTrain + fnTrain)\n",
    "m2_train_tnr = tnTrain/(tnTrain + fpTrain)\n",
    "\n",
    "print(\"TPR Train :\\t\", m2_train_tpr)\n",
    "print(\"TNR Train :\\t\", m2_train_tnr)\n",
    "print()\n",
    "\n",
    "m2_train_fpr = fpTrain/(tnTrain + fpTrain)\n",
    "m2_train_fnr = fnTrain/(tpTrain + fnTrain)\n",
    "\n",
    "print(\"FPR Train :\\t\", m2_train_fpr)\n",
    "print(\"FNR Train :\\t\", m2_train_fnr)\n",
    "\n",
    "# Plot the two-way Confusion Matrix\n",
    "sb.heatmap(confusion_matrix(y_train, y_train_pred), \n",
    "           annot = True, fmt=\".0f\", annot_kws={\"size\": 18})"
   ]
  },
  {
   "cell_type": "code",
   "execution_count": 23,
   "id": "e5edd00a",
   "metadata": {},
   "outputs": [
    {
     "name": "stdout",
     "output_type": "stream",
     "text": [
      "Test Data\n",
      "Accuracy  :\t 0.803921568627451\n",
      "\n",
      "TPR Test :\t 0.8035714285714286\n",
      "TNR Test :\t 0.8043478260869565\n",
      "\n",
      "FPR Test :\t 0.1956521739130435\n",
      "FNR Test :\t 0.19642857142857142\n"
     ]
    },
    {
     "data": {
      "text/plain": [
       "<AxesSubplot:>"
      ]
     },
     "execution_count": 23,
     "metadata": {},
     "output_type": "execute_result"
    },
    {
     "data": {
      "image/png": "[encoded data removed]",
      "text/plain": [
       "<Figure size 432x288 with 2 Axes>"
      ]
     },
     "metadata": {},
     "output_type": "display_data"
    }
   ],
   "source": [
    "# Predict the Response corresponding to Predictors\n",
    "y_test_pred = rf.predict(X_test_model2)\n",
    "\n",
    "# Print the Classification Accuracy\n",
    "m2_test_ca = rf.score(X_test_model2, y_test)\n",
    "print(\"Test Data\")\n",
    "print(\"Accuracy  :\\t\", m2_test_ca)\n",
    "print()\n",
    "\n",
    "# Print the Accuracy Measures from the Confusion Matrix\n",
    "cmTest = confusion_matrix(y_test, y_test_pred)\n",
    "tpTest = cmTest[1][1]\n",
    "fpTest = cmTest[0][1] \n",
    "tnTest = cmTest[0][0] \n",
    "fnTest = cmTest[1][0] \n",
    "\n",
    "m2_test_tpr = tpTest/(tpTest + fnTest)\n",
    "m2_test_tnr = tnTest/(tnTest + fpTest)\n",
    "\n",
    "print(\"TPR Test :\\t\", m2_test_tpr)\n",
    "print(\"TNR Test :\\t\", m2_test_tnr)\n",
    "print()\n",
    "\n",
    "m2_test_fpr = fpTest/(tnTest + fpTest)\n",
    "m2_test_fnr = fnTest/(tpTest + fnTest)\n",
    "\n",
    "print(\"FPR Test :\\t\", m2_test_fpr)\n",
    "print(\"FNR Test :\\t\", m2_test_fnr)\n",
    "\n",
    "# Plot the two-way Confusion Matrix\n",
    "sb.heatmap(confusion_matrix(y_test, y_test_pred), \n",
    "           annot = True, fmt=\".0f\", annot_kws={\"size\": 18})"
   ]
  },
  {
   "cell_type": "code",
   "execution_count": 24,
   "id": "8fc05f6d",
   "metadata": {},
   "outputs": [
    {
     "name": "stdout",
     "output_type": "stream",
     "text": [
      "              precision    recall  f1-score   support\n",
      "\n",
      "       Agree       0.77      0.80      0.79        92\n",
      "    Disagree       0.83      0.80      0.82       112\n",
      "\n",
      "    accuracy                           0.80       204\n",
      "   macro avg       0.80      0.80      0.80       204\n",
      "weighted avg       0.81      0.80      0.80       204\n",
      "\n"
     ]
    }
   ],
   "source": [
    "# Print the f1 score\n",
    "m2_test_f1 = metrics.f1_score(y_test, y_test_pred, pos_label='Disagree')\n",
    "print(metrics.classification_report(y_test, y_test_pred))"
   ]
  },
  {
   "cell_type": "code",
   "execution_count": 25,
   "id": "613bcdc0",
   "metadata": {},
   "outputs": [
    {
     "data": {
      "image/png": "[encoded data removed]",
      "text/plain": [
       "<Figure size 432x288 with 1 Axes>"
      ]
     },
     "metadata": {},
     "output_type": "display_data"
    }
   ],
   "source": [
    "#define metrics\n",
    "y_pred_proba = rf.predict_proba(X_test_model2)[::,1]\n",
    "fpr, tpr, _ = metrics.roc_curve(y_test,  y_pred_proba, pos_label='Disagree')\n",
    "m2_test_auc = metrics.roc_auc_score(y_test, y_pred_proba)\n",
    "\n",
    "#create ROC curve\n",
    "plt.plot(fpr,tpr,label=\"AUC=\"+str(m2_test_auc))\n",
    "plt.ylabel('True Positive Rate')\n",
    "plt.xlabel('False Positive Rate')\n",
    "plt.legend(loc=4)\n",
    "plt.show()"
   ]
  },
  {
   "cell_type": "markdown",
   "id": "a407a2d8",
   "metadata": {},
   "source": [
    "## Model 3"
   ]
  },
  {
   "cell_type": "code",
   "execution_count": 26,
   "id": "ef177e0f",
   "metadata": {},
   "outputs": [
    {
     "data": {
      "text/plain": [
       "RandomForestClassifier(max_depth=10)"
      ]
     },
     "execution_count": 26,
     "metadata": {},
     "output_type": "execute_result"
    }
   ],
   "source": [
    "# Fit Random Forest on Train Data\n",
    "rf.fit(X_train_model3, y_train.ChgEmp.ravel())"
   ]
  },
  {
   "cell_type": "code",
   "execution_count": 27,
   "id": "a2f39dcd",
   "metadata": {},
   "outputs": [
    {
     "name": "stdout",
     "output_type": "stream",
     "text": [
      "Train Data\n",
      "Accuracy  :\t 0.961916461916462\n",
      "\n",
      "TPR Train :\t 0.9874055415617129\n",
      "TNR Train :\t 0.9376498800959233\n",
      "\n",
      "FPR Train :\t 0.06235011990407674\n",
      "FNR Train :\t 0.012594458438287154\n"
     ]
    },
    {
     "data": {
      "text/plain": [
       "<AxesSubplot:>"
      ]
     },
     "execution_count": 27,
     "metadata": {},
     "output_type": "execute_result"
    },
    {
     "data": {
      "image/png": "[encoded data removed]",
      "text/plain": [
       "<Figure size 432x288 with 2 Axes>"
      ]
     },
     "metadata": {},
     "output_type": "display_data"
    }
   ],
   "source": [
    "# Predict the Response corresponding to Predictors\n",
    "y_train_pred = rf.predict(X_train_model3)\n",
    "\n",
    "# Predict the Response corresponding to Predictors\n",
    "y_train_pred = rf.predict(X_train_model3)\n",
    "\n",
    "# Print the Classification Accuracy\n",
    "m3_train_ca = rf.score(X_train_model3, y_train)\n",
    "print(\"Train Data\")\n",
    "print(\"Accuracy  :\\t\", m3_train_ca)\n",
    "print()\n",
    "\n",
    "# Print the Accuracy Measures from the Confusion Matrix\n",
    "cmTrain = confusion_matrix(y_train, y_train_pred)\n",
    "tpTrain = cmTrain[1][1] \n",
    "fpTrain = cmTrain[0][1] \n",
    "tnTrain = cmTrain[0][0] \n",
    "fnTrain = cmTrain[1][0] \n",
    "\n",
    "m3_train_tpr = tpTrain/(tpTrain + fnTrain)\n",
    "m3_train_tnr = tnTrain/(tnTrain + fpTrain)\n",
    "\n",
    "print(\"TPR Train :\\t\", m3_train_tpr)\n",
    "print(\"TNR Train :\\t\", m3_train_tnr)\n",
    "print()\n",
    "\n",
    "m3_train_fpr = fpTrain/(tnTrain + fpTrain)\n",
    "m3_train_fnr = fnTrain/(tpTrain + fnTrain)\n",
    "\n",
    "print(\"FPR Train :\\t\", m3_train_fpr)\n",
    "print(\"FNR Train :\\t\", m3_train_fnr)\n",
    "\n",
    "# Plot the two-way Confusion Matrix\n",
    "sb.heatmap(confusion_matrix(y_train, y_train_pred), \n",
    "           annot = True, fmt=\".0f\", annot_kws={\"size\": 18})"
   ]
  },
  {
   "cell_type": "code",
   "execution_count": 28,
   "id": "e986199c",
   "metadata": {},
   "outputs": [
    {
     "name": "stdout",
     "output_type": "stream",
     "text": [
      "Test Data\n",
      "Accuracy  :\t 0.8235294117647058\n",
      "\n",
      "TPR Test :\t 0.8392857142857143\n",
      "TNR Test :\t 0.8043478260869565\n",
      "\n",
      "FPR Test :\t 0.1956521739130435\n",
      "FNR Test :\t 0.16071428571428573\n"
     ]
    },
    {
     "data": {
      "text/plain": [
       "<AxesSubplot:>"
      ]
     },
     "execution_count": 28,
     "metadata": {},
     "output_type": "execute_result"
    },
    {
     "data": {
      "image/png": "[encoded data removed]",
      "text/plain": [
       "<Figure size 432x288 with 2 Axes>"
      ]
     },
     "metadata": {},
     "output_type": "display_data"
    }
   ],
   "source": [
    "# Predict the Response corresponding to Predictors\n",
    "y_test_pred = rf.predict(X_test_model3)\n",
    "\n",
    "# Print the Classification Accuracy\n",
    "m3_test_ca = rf.score(X_test_model3, y_test)\n",
    "print(\"Test Data\")\n",
    "print(\"Accuracy  :\\t\", m3_test_ca)\n",
    "print()\n",
    "\n",
    "# Print the Accuracy Measures from the Confusion Matrix\n",
    "cmTest = confusion_matrix(y_test, y_test_pred)\n",
    "tpTest = cmTest[1][1]\n",
    "fpTest = cmTest[0][1] \n",
    "tnTest = cmTest[0][0] \n",
    "fnTest = cmTest[1][0] \n",
    "\n",
    "m3_test_tpr = tpTest/(tpTest + fnTest)\n",
    "m3_test_tnr = tnTest/(tnTest + fpTest)\n",
    "\n",
    "print(\"TPR Test :\\t\", m3_test_tpr)\n",
    "print(\"TNR Test :\\t\", m3_test_tnr)\n",
    "print()\n",
    "\n",
    "m3_test_fpr = fpTest/(tnTest + fpTest)\n",
    "m3_test_fnr = fnTest/(tpTest + fnTest)\n",
    "\n",
    "print(\"FPR Test :\\t\", m3_test_fpr)\n",
    "print(\"FNR Test :\\t\", m3_test_fnr)\n",
    "\n",
    "# Plot the two-way Confusion Matrix\n",
    "sb.heatmap(confusion_matrix(y_test, y_test_pred), \n",
    "           annot = True, fmt=\".0f\", annot_kws={\"size\": 18})"
   ]
  },
  {
   "cell_type": "code",
   "execution_count": 29,
   "id": "dc4c9c36",
   "metadata": {},
   "outputs": [
    {
     "name": "stdout",
     "output_type": "stream",
     "text": [
      "              precision    recall  f1-score   support\n",
      "\n",
      "       Agree       0.80      0.80      0.80        92\n",
      "    Disagree       0.84      0.84      0.84       112\n",
      "\n",
      "    accuracy                           0.82       204\n",
      "   macro avg       0.82      0.82      0.82       204\n",
      "weighted avg       0.82      0.82      0.82       204\n",
      "\n"
     ]
    }
   ],
   "source": [
    "m3_test_f1 = metrics.f1_score(y_test, y_test_pred, pos_label='Disagree')\n",
    "print(metrics.classification_report(y_test, y_test_pred))"
   ]
  },
  {
   "cell_type": "code",
   "execution_count": 30,
   "id": "36d87f06",
   "metadata": {},
   "outputs": [
    {
     "data": {
      "image/png": "[encoded data removed]",
      "text/plain": [
       "<Figure size 432x288 with 1 Axes>"
      ]
     },
     "metadata": {},
     "output_type": "display_data"
    }
   ],
   "source": [
    "#define metrics\n",
    "y_pred_proba = rf.predict_proba(X_test_model3)[::,1]\n",
    "fpr, tpr, _ = metrics.roc_curve(y_test,  y_pred_proba, pos_label='Disagree')\n",
    "m3_test_auc = metrics.roc_auc_score(y_test, y_pred_proba)\n",
    "\n",
    "#create ROC curve\n",
    "plt.plot(fpr,tpr,label=\"AUC=\"+str(m3_test_auc))\n",
    "plt.ylabel('True Positive Rate')\n",
    "plt.xlabel('False Positive Rate')\n",
    "plt.legend(loc=4)\n",
    "plt.show()"
   ]
  },
  {
   "cell_type": "markdown",
   "id": "6b7cf083",
   "metadata": {},
   "source": [
    "## Model 4"
   ]
  },
  {
   "cell_type": "code",
   "execution_count": 31,
   "id": "7dd4491e",
   "metadata": {},
   "outputs": [
    {
     "data": {
      "text/plain": [
       "RandomForestClassifier(max_depth=10)"
      ]
     },
     "execution_count": 31,
     "metadata": {},
     "output_type": "execute_result"
    }
   ],
   "source": [
    "# Fit Random Forest on Train Data\n",
    "rf.fit(X_train_model4, y_train.ChgEmp.ravel())"
   ]
  },
  {
   "cell_type": "code",
   "execution_count": 32,
   "id": "1481f000",
   "metadata": {},
   "outputs": [
    {
     "name": "stdout",
     "output_type": "stream",
     "text": [
      "Train Data\n",
      "Accuracy  :\t 0.9791154791154791\n",
      "\n",
      "TPR Train :\t 1.0\n",
      "TNR Train :\t 0.9592326139088729\n",
      "\n",
      "FPR Train :\t 0.0407673860911271\n",
      "FNR Train :\t 0.0\n"
     ]
    },
    {
     "data": {
      "text/plain": [
       "<AxesSubplot:>"
      ]
     },
     "execution_count": 32,
     "metadata": {},
     "output_type": "execute_result"
    },
    {
     "data": {
      "image/png": "[encoded data removed]",
      "text/plain": [
       "<Figure size 432x288 with 2 Axes>"
      ]
     },
     "metadata": {},
     "output_type": "display_data"
    }
   ],
   "source": [
    "# Predict the Response corresponding to Predictors\n",
    "y_train_pred = rf.predict(X_train_model4)\n",
    "\n",
    "# Predict the Response corresponding to Predictors\n",
    "y_train_pred = rf.predict(X_train_model4)\n",
    "\n",
    "# Print the Classification Accuracy\n",
    "m4_train_ca = rf.score(X_train_model4, y_train)\n",
    "print(\"Train Data\")\n",
    "print(\"Accuracy  :\\t\", m4_train_ca)\n",
    "print()\n",
    "\n",
    "# Print the Accuracy Measures from the Confusion Matrix\n",
    "cmTrain = confusion_matrix(y_train, y_train_pred)\n",
    "tpTrain = cmTrain[1][1] \n",
    "fpTrain = cmTrain[0][1] \n",
    "tnTrain = cmTrain[0][0] \n",
    "fnTrain = cmTrain[1][0] \n",
    "\n",
    "m4_train_tpr = tpTrain/(tpTrain + fnTrain)\n",
    "m4_train_tnr = tnTrain/(tnTrain + fpTrain)\n",
    "\n",
    "print(\"TPR Train :\\t\", m4_train_tpr)\n",
    "print(\"TNR Train :\\t\", m4_train_tnr)\n",
    "print()\n",
    "\n",
    "m4_train_fpr = fpTrain/(tnTrain + fpTrain)\n",
    "m4_train_fnr = fnTrain/(tpTrain + fnTrain)\n",
    "\n",
    "print(\"FPR Train :\\t\", m4_train_fpr)\n",
    "print(\"FNR Train :\\t\", m4_train_fnr)\n",
    "\n",
    "# Plot the two-way Confusion Matrix\n",
    "sb.heatmap(confusion_matrix(y_train, y_train_pred), \n",
    "           annot = True, fmt=\".0f\", annot_kws={\"size\": 18})"
   ]
  },
  {
   "cell_type": "code",
   "execution_count": 33,
   "id": "58979fe5",
   "metadata": {},
   "outputs": [
    {
     "name": "stdout",
     "output_type": "stream",
     "text": [
      "Test Data\n",
      "Accuracy  :\t 0.7892156862745098\n",
      "\n",
      "TPR Test :\t 0.7946428571428571\n",
      "TNR Test :\t 0.782608695652174\n",
      "\n",
      "FPR Test :\t 0.21739130434782608\n",
      "FNR Test :\t 0.20535714285714285\n"
     ]
    },
    {
     "data": {
      "text/plain": [
       "<AxesSubplot:>"
      ]
     },
     "execution_count": 33,
     "metadata": {},
     "output_type": "execute_result"
    },
    {
     "data": {
      "image/png": "[encoded data removed]",
      "text/plain": [
       "<Figure size 432x288 with 2 Axes>"
      ]
     },
     "metadata": {},
     "output_type": "display_data"
    }
   ],
   "source": [
    "# Predict the Response corresponding to Predictors\n",
    "y_test_pred = rf.predict(X_test_model4)\n",
    "\n",
    "# Print the Classification Accuracy\n",
    "m4_test_ca = rf.score(X_test_model4, y_test)\n",
    "print(\"Test Data\")\n",
    "print(\"Accuracy  :\\t\", m4_test_ca)\n",
    "print()\n",
    "\n",
    "# Print the Accuracy Measures from the Confusion Matrix\n",
    "cmTest = confusion_matrix(y_test, y_test_pred)\n",
    "tpTest = cmTest[1][1]\n",
    "fpTest = cmTest[0][1] \n",
    "tnTest = cmTest[0][0] \n",
    "fnTest = cmTest[1][0] \n",
    "\n",
    "m4_test_tpr = tpTest/(tpTest + fnTest)\n",
    "m4_test_tnr = tnTest/(tnTest + fpTest)\n",
    "\n",
    "print(\"TPR Test :\\t\", m4_test_tpr)\n",
    "print(\"TNR Test :\\t\", m4_test_tnr)\n",
    "print()\n",
    "\n",
    "m4_test_fpr = fpTest/(tnTest + fpTest)\n",
    "m4_test_fnr = fnTest/(tpTest + fnTest)\n",
    "\n",
    "print(\"FPR Test :\\t\", m4_test_fpr)\n",
    "print(\"FNR Test :\\t\", m4_test_fnr)\n",
    "\n",
    "# Plot the two-way Confusion Matrix\n",
    "sb.heatmap(confusion_matrix(y_test, y_test_pred), \n",
    "           annot = True, fmt=\".0f\", annot_kws={\"size\": 18})"
   ]
  },
  {
   "cell_type": "code",
   "execution_count": 34,
   "id": "08e5c2ee",
   "metadata": {},
   "outputs": [
    {
     "name": "stdout",
     "output_type": "stream",
     "text": [
      "              precision    recall  f1-score   support\n",
      "\n",
      "       Agree       0.76      0.78      0.77        92\n",
      "    Disagree       0.82      0.79      0.81       112\n",
      "\n",
      "    accuracy                           0.79       204\n",
      "   macro avg       0.79      0.79      0.79       204\n",
      "weighted avg       0.79      0.79      0.79       204\n",
      "\n"
     ]
    }
   ],
   "source": [
    "m4_test_f1 = metrics.f1_score(y_test, y_test_pred, pos_label='Disagree')\n",
    "print(metrics.classification_report(y_test, y_test_pred))"
   ]
  },
  {
   "cell_type": "code",
   "execution_count": 35,
   "id": "066867a4",
   "metadata": {},
   "outputs": [
    {
     "data": {
      "image/png": "[encoded data removed]",
      "text/plain": [
       "<Figure size 432x288 with 1 Axes>"
      ]
     },
     "metadata": {},
     "output_type": "display_data"
    }
   ],
   "source": [
    "#define metrics\n",
    "y_pred_proba = rf.predict_proba(X_test_model4)[::,1]\n",
    "fpr, tpr, _ = metrics.roc_curve(y_test,  y_pred_proba, pos_label='Disagree')\n",
    "m4_test_auc = metrics.roc_auc_score(y_test, y_pred_proba)\n",
    "\n",
    "#create ROC curve\n",
    "plt.plot(fpr,tpr,label=\"AUC=\"+str(m4_test_auc))\n",
    "plt.ylabel('True Positive Rate')\n",
    "plt.xlabel('False Positive Rate')\n",
    "plt.legend(loc=4)\n",
    "plt.show()"
   ]
  },
  {
   "cell_type": "markdown",
   "id": "5659e32c",
   "metadata": {},
   "source": [
    "## Model 5"
   ]
  },
  {
   "cell_type": "code",
   "execution_count": 36,
   "id": "89a026a2",
   "metadata": {},
   "outputs": [
    {
     "data": {
      "text/plain": [
       "RandomForestClassifier(max_depth=10)"
      ]
     },
     "execution_count": 36,
     "metadata": {},
     "output_type": "execute_result"
    }
   ],
   "source": [
    "# Fit Random Forest on Train Data\n",
    "rf.fit(X_train_selected, y_train.ChgEmp.ravel())"
   ]
  },
  {
   "cell_type": "code",
   "execution_count": 37,
   "id": "4043e30b",
   "metadata": {},
   "outputs": [
    {
     "name": "stdout",
     "output_type": "stream",
     "text": [
      "Train Data\n",
      "Accuracy  :\t 0.9803439803439803\n",
      "\n",
      "TPR Train :\t 0.9974811083123426\n",
      "TNR Train :\t 0.9640287769784173\n",
      "\n",
      "FPR Train :\t 0.03597122302158273\n",
      "FNR Train :\t 0.0025188916876574307\n"
     ]
    },
    {
     "data": {
      "text/plain": [
       "<AxesSubplot:>"
      ]
     },
     "execution_count": 37,
     "metadata": {},
     "output_type": "execute_result"
    },
    {
     "data": {
      "image/png": "[encoded data removed]",
      "text/plain": [
       "<Figure size 432x288 with 2 Axes>"
      ]
     },
     "metadata": {},
     "output_type": "display_data"
    }
   ],
   "source": [
    "# Predict the Response corresponding to Predictors\n",
    "y_train_pred = rf.predict(X_train_selected)\n",
    "\n",
    "# Predict the Response corresponding to Predictors\n",
    "y_train_pred = rf.predict(X_train_selected)\n",
    "\n",
    "# Print the Classification Accuracy\n",
    "m5_train_ca = rf.score(X_train_selected, y_train)\n",
    "print(\"Train Data\")\n",
    "print(\"Accuracy  :\\t\", m5_train_ca)\n",
    "print()\n",
    "\n",
    "# Print the Accuracy Measures from the Confusion Matrix\n",
    "cmTrain = confusion_matrix(y_train, y_train_pred)\n",
    "tpTrain = cmTrain[1][1] \n",
    "fpTrain = cmTrain[0][1] \n",
    "tnTrain = cmTrain[0][0] \n",
    "fnTrain = cmTrain[1][0] \n",
    "\n",
    "m5_train_tpr = tpTrain/(tpTrain + fnTrain)\n",
    "m5_train_tnr = tnTrain/(tnTrain + fpTrain)\n",
    "\n",
    "print(\"TPR Train :\\t\", m5_train_tpr)\n",
    "print(\"TNR Train :\\t\", m5_train_tnr)\n",
    "print()\n",
    "\n",
    "m5_train_fpr = fpTrain/(tnTrain + fpTrain)\n",
    "m5_train_fnr = fnTrain/(tpTrain + fnTrain)\n",
    "\n",
    "print(\"FPR Train :\\t\", m5_train_fpr)\n",
    "print(\"FNR Train :\\t\", m5_train_fnr)\n",
    "\n",
    "# Plot the two-way Confusion Matrix\n",
    "sb.heatmap(confusion_matrix(y_train, y_train_pred), \n",
    "           annot = True, fmt=\".0f\", annot_kws={\"size\": 18})"
   ]
  },
  {
   "cell_type": "code",
   "execution_count": 38,
   "id": "e86c6e57",
   "metadata": {},
   "outputs": [
    {
     "name": "stdout",
     "output_type": "stream",
     "text": [
      "Test Data\n",
      "Accuracy  :\t 0.8186274509803921\n",
      "\n",
      "TPR Test :\t 0.8214285714285714\n",
      "TNR Test :\t 0.8152173913043478\n",
      "\n",
      "FPR Test :\t 0.18478260869565216\n",
      "FNR Test :\t 0.17857142857142858\n"
     ]
    },
    {
     "data": {
      "text/plain": [
       "<AxesSubplot:>"
      ]
     },
     "execution_count": 38,
     "metadata": {},
     "output_type": "execute_result"
    },
    {
     "data": {
      "image/png": "[encoded data removed]",
      "text/plain": [
       "<Figure size 432x288 with 2 Axes>"
      ]
     },
     "metadata": {},
     "output_type": "display_data"
    }
   ],
   "source": [
    "# Predict the Response corresponding to Predictors\n",
    "y_test_pred = rf.predict(X_test_selected)\n",
    "\n",
    "# Print the Classification Accuracy\n",
    "m5_test_ca = rf.score(X_test_selected, y_test)\n",
    "print(\"Test Data\")\n",
    "print(\"Accuracy  :\\t\", m5_test_ca)\n",
    "print()\n",
    "\n",
    "# Print the Accuracy Measures from the Confusion Matrix\n",
    "cmTest = confusion_matrix(y_test, y_test_pred)\n",
    "tpTest = cmTest[1][1]\n",
    "fpTest = cmTest[0][1] \n",
    "tnTest = cmTest[0][0] \n",
    "fnTest = cmTest[1][0] \n",
    "\n",
    "m5_test_tpr = tpTest/(tpTest + fnTest)\n",
    "m5_test_tnr = tnTest/(tnTest + fpTest)\n",
    "\n",
    "print(\"TPR Test :\\t\", m5_test_tpr)\n",
    "print(\"TNR Test :\\t\", m5_test_tnr)\n",
    "print()\n",
    "\n",
    "m5_test_fpr = fpTest/(tnTest + fpTest)\n",
    "m5_test_fnr = fnTest/(tpTest + fnTest)\n",
    "\n",
    "print(\"FPR Test :\\t\", m5_test_fpr)\n",
    "print(\"FNR Test :\\t\", m5_test_fnr)\n",
    "\n",
    "# Plot the two-way Confusion Matrix\n",
    "sb.heatmap(confusion_matrix(y_test, y_test_pred), \n",
    "           annot = True, fmt=\".0f\", annot_kws={\"size\": 18})"
   ]
  },
  {
   "cell_type": "code",
   "execution_count": 39,
   "id": "dfbe0d45",
   "metadata": {},
   "outputs": [
    {
     "name": "stdout",
     "output_type": "stream",
     "text": [
      "              precision    recall  f1-score   support\n",
      "\n",
      "       Agree       0.79      0.82      0.80        92\n",
      "    Disagree       0.84      0.82      0.83       112\n",
      "\n",
      "    accuracy                           0.82       204\n",
      "   macro avg       0.82      0.82      0.82       204\n",
      "weighted avg       0.82      0.82      0.82       204\n",
      "\n"
     ]
    }
   ],
   "source": [
    "m5_test_f1 = metrics.f1_score(y_test, y_test_pred, pos_label='Disagree')\n",
    "print(metrics.classification_report(y_test, y_test_pred))"
   ]
  },
  {
   "cell_type": "code",
   "execution_count": 40,
   "id": "bb677ae5",
   "metadata": {},
   "outputs": [
    {
     "data": {
      "image/png": "[encoded data removed]",
      "text/plain": [
       "<Figure size 432x288 with 1 Axes>"
      ]
     },
     "metadata": {},
     "output_type": "display_data"
    }
   ],
   "source": [
    "#define metrics\n",
    "y_pred_proba = rf.predict_proba(X_test_selected)[::,1]\n",
    "fpr, tpr, _ = metrics.roc_curve(y_test,  y_pred_proba, pos_label='Disagree')\n",
    "m5_test_auc = metrics.roc_auc_score(y_test, y_pred_proba)\n",
    "\n",
    "#create ROC curve\n",
    "plt.plot(fpr,tpr,label=\"AUC=\"+str(m5_test_auc))\n",
    "plt.ylabel('True Positive Rate')\n",
    "plt.xlabel('False Positive Rate')\n",
    "plt.legend(loc=4)\n",
    "plt.show()"
   ]
  },
  {
   "cell_type": "markdown",
   "id": "793a80a8",
   "metadata": {},
   "source": [
    "## Logistic Regression"
   ]
  },
  {
   "cell_type": "markdown",
   "id": "18fbb9d5",
   "metadata": {},
   "source": [
    "### Selection of  potential features that are good predictors of the response variable\n",
    "\n",
    "Potential features that best predicts the response variable in the training dataset will be determined using the Recursive Feature Elimination function from sickitlearn feature selection module. The Logistic Regression model (with the parameters max_iter=1000) will be passed in as a parameter of the Recursive Feature Elimination function."
   ]
  },
  {
   "cell_type": "code",
   "execution_count": 41,
   "id": "cbfb155d",
   "metadata": {},
   "outputs": [],
   "source": [
    "# Importing essential modules\n",
    "from sklearn.linear_model import LogisticRegression\n",
    "from sklearn.feature_selection import RFE\n",
    "\n",
    "# Logistic regression model\n",
    "lg=LogisticRegression(max_iter=1000)"
   ]
  },
  {
   "cell_type": "code",
   "execution_count": 43,
   "id": "4c758666",
   "metadata": {},
   "outputs": [
    {
     "data": {
      "text/plain": [
       "['1 YrsCurEmp',\n",
       " '2 NumChild',\n",
       " '3 Stress',\n",
       " '4 Age',\n",
       " '5 Promo',\n",
       " '6 OpProc',\n",
       " '7 Supvr',\n",
       " '8 HseCare_All My Responsibility',\n",
       " '9 HseCare_All Partner Responsibility']"
      ]
     },
     "execution_count": 43,
     "metadata": {},
     "output_type": "execute_result"
    }
   ],
   "source": [
    "# Selection of features\n",
    "selector=RFE(lg, n_features_to_select=1)\n",
    "selector=selector.fit(X_train, y_train.ChgEmp.ravel())\n",
    "\n",
    "feature_ranks = []\n",
    "for i in selector.ranking_:\n",
    "    if i<10:\n",
    "        feature_ranks.append(f\"{i} {X.columns[i-1]}\")\n",
    "feature_ranks.sort()\n",
    "feature_ranks"
   ]
  },
  {
   "cell_type": "markdown",
   "id": "6682401a",
   "metadata": {},
   "source": [
    "### Determing which feature best predicts the response variable\n",
    "\n",
    "4 models will be created to test which feature best predicts an employee's intention to leave employer.\n",
    "\n",
    "### Model 6: \n",
    "\n",
    "Predictor Variables: 'YrsCurEmp', 'Age', 'Promo', 'OpProc', 'Supvr', 'HseCare_All My Responsibility', 'HseCare_All Partner Responsibility' (all selected variables except 'Stress' and 'NumChild')\n",
    "\n",
    "Response Variable: 'ChgEmp'\n",
    "\n",
    "### Model 7:\n",
    "\n",
    "Predictor Variables: 'NumChild', 'Age', 'Promo', 'OpProc', 'Supvr', 'HseCare_All My Responsibility', 'HseCare_All Partner Responsibility' (all selected variables except 'YrsCurEmp' and 'Stress')\n",
    "\n",
    "Response Variable: 'ChgEmp'\n",
    "\n",
    "### Model 8: \n",
    "\n",
    "Predictor Variables: 'Stress', 'Age', 'Promo', 'OpProc', 'Supvr', 'HseCare_All My Responsibility', 'HseCare_All Partner Responsibility' (all selected variables except 'YrsCurEmp' and 'NumChild')\n",
    "\n",
    "Response Variable: 'ChgEmp'\n",
    "\n",
    "### Model 9: \n",
    "\n",
    "Predictor Variables: 'Age', 'Promo', 'OpProc', 'Supvr', 'HseCare_All My Responsibility', 'HseCare_All Partner Responsibility' (all selected variables except 'YrsCurEmp', 'Stress', 'NumChild')\n",
    "\n",
    "Response Variable: 'ChgEmp'\n",
    "\n",
    "The same Logistic Regression Model will be used for all models."
   ]
  },
  {
   "cell_type": "markdown",
   "id": "9bd1d2ff",
   "metadata": {},
   "source": [
    "### Determining which model best predicts the response variable\n",
    "\n",
    "Model 10 will be created to compare with the other models to evaluate which model is the best at predicting the response variable\n",
    "\n",
    "### Model 10:\n",
    "\n",
    "Predictor Variables: 'YrsCurEmp', 'NumChild', 'Stress', 'Age', 'Promo', 'OpProc', 'Supvr', 'HseCare_All My Responsibility', 'HseCare_All Partner Responsibility'\n",
    "\n",
    "Response Variable: 'ChgEmp'\n",
    "\n",
    "The same Logistic Regression Model will be used for this model."
   ]
  },
  {
   "cell_type": "code",
   "execution_count": 44,
   "id": "1d0b17af",
   "metadata": {},
   "outputs": [],
   "source": [
    "# Updating the X datasets for all models\n",
    "X_train_model6 = pd.DataFrame(X_train[['YrsCurEmp', 'Age', 'Promo', 'OpProc', 'Supvr', 'HseCare_All My Responsibility', 'HseCare_All Partner Responsibility']])\n",
    "X_test_model6 = pd.DataFrame(X_test[['YrsCurEmp', 'Age', 'Promo', 'OpProc', 'Supvr', 'HseCare_All My Responsibility', 'HseCare_All Partner Responsibility']])\n",
    "\n",
    "X_train_model7 = pd.DataFrame(X_train[['NumChild', 'Age', 'Promo', 'OpProc', 'Supvr', 'HseCare_All My Responsibility', 'HseCare_All Partner Responsibility']])\n",
    "X_test_model7 = pd.DataFrame(X_test[['NumChild', 'Age', 'Promo', 'OpProc', 'Supvr', 'HseCare_All My Responsibility', 'HseCare_All Partner Responsibility']])\n",
    "\n",
    "X_train_model8 = pd.DataFrame(X_train[['Stress', 'Age', 'Promo', 'OpProc', 'Supvr', 'HseCare_All My Responsibility', 'HseCare_All Partner Responsibility']])\n",
    "X_test_model8 = pd.DataFrame(X_test[['Stress', 'Age', 'Promo', 'OpProc', 'Supvr', 'HseCare_All My Responsibility', 'HseCare_All Partner Responsibility']])\n",
    "\n",
    "X_train_model9 = pd.DataFrame(X_train[['Age', 'Promo', 'OpProc', 'Supvr', 'HseCare_All My Responsibility', 'HseCare_All Partner Responsibility']])\n",
    "X_test_model9 = pd.DataFrame(X_test[['Age', 'Promo', 'OpProc', 'Supvr', 'HseCare_All My Responsibility', 'HseCare_All Partner Responsibility']])\n",
    "\n",
    "X_train_model10 = pd.DataFrame(X_train[['YrsCurEmp', 'NumChild', 'Stress', 'Age', 'Promo', 'OpProc', 'Supvr', 'HseCare_All My Responsibility', 'HseCare_All Partner Responsibility']])\n",
    "X_test_model10 = pd.DataFrame(X_test[['YrsCurEmp', 'NumChild', 'Stress', 'Age', 'Promo', 'OpProc', 'Supvr', 'HseCare_All My Responsibility', 'HseCare_All Partner Responsibility']])\n"
   ]
  },
  {
   "cell_type": "markdown",
   "id": "a1eb5986",
   "metadata": {},
   "source": [
    "## Model 6"
   ]
  },
  {
   "cell_type": "code",
   "execution_count": 45,
   "id": "90d510c2",
   "metadata": {},
   "outputs": [
    {
     "data": {
      "text/plain": [
       "LogisticRegression(max_iter=1000)"
      ]
     },
     "execution_count": 45,
     "metadata": {},
     "output_type": "execute_result"
    }
   ],
   "source": [
    "# Fit Random Forest on Train Data\n",
    "lg.fit(X_train_model6, y_train.ChgEmp.ravel())"
   ]
  },
  {
   "cell_type": "code",
   "execution_count": 46,
   "id": "907663be",
   "metadata": {},
   "outputs": [
    {
     "name": "stdout",
     "output_type": "stream",
     "text": [
      "Train Data\n",
      "Accuracy  :\t 0.6904176904176904\n",
      "\n",
      "TPR Train :\t 0.7178841309823678\n",
      "TNR Train :\t 0.6642685851318945\n",
      "\n",
      "FPR Train :\t 0.33573141486810554\n",
      "FNR Train :\t 0.28211586901763225\n"
     ]
    },
    {
     "data": {
      "text/plain": [
       "<AxesSubplot:>"
      ]
     },
     "execution_count": 46,
     "metadata": {},
     "output_type": "execute_result"
    },
    {
     "data": {
      "image/png": "[encoded data removed]",
      "text/plain": [
       "<Figure size 432x288 with 2 Axes>"
      ]
     },
     "metadata": {},
     "output_type": "display_data"
    }
   ],
   "source": [
    "# Predict the Response corresponding to Predictors\n",
    "y_train_pred = lg.predict(X_train_model6)\n",
    "\n",
    "# Print the Classification Accuracy\n",
    "m6_train_ca = lg.score(X_train_model6, y_train)\n",
    "print(\"Train Data\")\n",
    "print(\"Accuracy  :\\t\", m6_train_ca)\n",
    "print()\n",
    "\n",
    "# Print the Accuracy Measures from the Confusion Matrix\n",
    "cmTrain = confusion_matrix(y_train, y_train_pred)\n",
    "tpTrain = cmTrain[1][1] \n",
    "fpTrain = cmTrain[0][1] \n",
    "tnTrain = cmTrain[0][0] \n",
    "fnTrain = cmTrain[1][0] \n",
    "\n",
    "m6_train_tpr = tpTrain/(tpTrain + fnTrain)\n",
    "m6_train_tnr = tnTrain/(tnTrain + fpTrain)\n",
    "\n",
    "print(\"TPR Train :\\t\", m6_train_tpr)\n",
    "print(\"TNR Train :\\t\", m6_train_tnr)\n",
    "print()\n",
    "\n",
    "m6_train_fpr = fpTrain/(tnTrain + fpTrain)\n",
    "m6_train_fnr = fnTrain/(tpTrain + fnTrain)\n",
    "\n",
    "print(\"FPR Train :\\t\", m6_train_fpr)\n",
    "print(\"FNR Train :\\t\", m6_train_fnr)\n",
    "\n",
    "# Plot the two-way Confusion Matrix\n",
    "sb.heatmap(confusion_matrix(y_train, y_train_pred), \n",
    "           annot = True, fmt=\".0f\", annot_kws={\"size\": 18})"
   ]
  },
  {
   "cell_type": "code",
   "execution_count": 47,
   "id": "55258f37",
   "metadata": {},
   "outputs": [
    {
     "name": "stdout",
     "output_type": "stream",
     "text": [
      "Test Data\n",
      "Accuracy  :\t 0.7303921568627451\n",
      "\n",
      "TPR Test :\t 0.7589285714285714\n",
      "TNR Test :\t 0.6956521739130435\n",
      "\n",
      "FPR Test :\t 0.30434782608695654\n",
      "FNR Test :\t 0.24107142857142858\n"
     ]
    },
    {
     "data": {
      "text/plain": [
       "<AxesSubplot:>"
      ]
     },
     "execution_count": 47,
     "metadata": {},
     "output_type": "execute_result"
    },
    {
     "data": {
      "image/png": "[encoded data removed]",
      "text/plain": [
       "<Figure size 432x288 with 2 Axes>"
      ]
     },
     "metadata": {},
     "output_type": "display_data"
    }
   ],
   "source": [
    "# Predict the Response corresponding to Predictors\n",
    "y_test_pred = lg.predict(X_test_model6)\n",
    "\n",
    "# Print the Classification Accuracy\n",
    "m6_test_ca = lg.score(X_test_model6, y_test)\n",
    "print(\"Test Data\")\n",
    "print(\"Accuracy  :\\t\", m6_test_ca)\n",
    "print()\n",
    "\n",
    "# Print the Accuracy Measures from the Confusion Matrix\n",
    "cmTest = confusion_matrix(y_test, y_test_pred)\n",
    "tpTest = cmTest[1][1]\n",
    "fpTest = cmTest[0][1] \n",
    "tnTest = cmTest[0][0] \n",
    "fnTest = cmTest[1][0] \n",
    "\n",
    "m6_test_tpr = tpTest/(tpTest + fnTest)\n",
    "m6_test_tnr = tnTest/(tnTest + fpTest)\n",
    "\n",
    "print(\"TPR Test :\\t\", m6_test_tpr)\n",
    "print(\"TNR Test :\\t\", m6_test_tnr)\n",
    "print()\n",
    "\n",
    "m6_test_fpr = fpTest/(tnTest + fpTest)\n",
    "m6_test_fnr = fnTest/(tpTest + fnTest)\n",
    "\n",
    "print(\"FPR Test :\\t\", m6_test_fpr)\n",
    "print(\"FNR Test :\\t\", m6_test_fnr)\n",
    "\n",
    "# Plot the two-way Confusion Matrix\n",
    "sb.heatmap(confusion_matrix(y_test, y_test_pred), \n",
    "           annot = True, fmt=\".0f\", annot_kws={\"size\": 18})"
   ]
  },
  {
   "cell_type": "code",
   "execution_count": 48,
   "id": "db6edf16",
   "metadata": {},
   "outputs": [
    {
     "name": "stdout",
     "output_type": "stream",
     "text": [
      "              precision    recall  f1-score   support\n",
      "\n",
      "       Agree       0.70      0.70      0.70        92\n",
      "    Disagree       0.75      0.76      0.76       112\n",
      "\n",
      "    accuracy                           0.73       204\n",
      "   macro avg       0.73      0.73      0.73       204\n",
      "weighted avg       0.73      0.73      0.73       204\n",
      "\n"
     ]
    }
   ],
   "source": [
    "m6_test_f1 = metrics.f1_score(y_test, y_test_pred, pos_label='Disagree')\n",
    "print(metrics.classification_report(y_test, y_test_pred))"
   ]
  },
  {
   "cell_type": "code",
   "execution_count": 49,
   "id": "ca807c9b",
   "metadata": {},
   "outputs": [
    {
     "data": {
      "image/png": "[encoded data removed]",
      "text/plain": [
       "<Figure size 432x288 with 1 Axes>"
      ]
     },
     "metadata": {},
     "output_type": "display_data"
    }
   ],
   "source": [
    "#define metrics\n",
    "y_pred_proba = lg.predict_proba(X_test_model6)[::,1]\n",
    "fpr, tpr, _ = metrics.roc_curve(y_test,  y_pred_proba, pos_label='Disagree')\n",
    "m6_test_auc = metrics.roc_auc_score(y_test, y_pred_proba)\n",
    "\n",
    "#create ROC curve\n",
    "plt.plot(fpr,tpr,label=\"AUC=\"+str(m6_test_auc))\n",
    "plt.ylabel('True Positive Rate')\n",
    "plt.xlabel('False Positive Rate')\n",
    "plt.legend(loc=4)\n",
    "plt.show()"
   ]
  },
  {
   "cell_type": "markdown",
   "id": "d9386c0a",
   "metadata": {},
   "source": [
    "## Model 7"
   ]
  },
  {
   "cell_type": "code",
   "execution_count": 50,
   "id": "93ebc274",
   "metadata": {},
   "outputs": [
    {
     "data": {
      "text/plain": [
       "LogisticRegression(max_iter=1000)"
      ]
     },
     "execution_count": 50,
     "metadata": {},
     "output_type": "execute_result"
    }
   ],
   "source": [
    "# Fit Random Forest on Train Data\n",
    "lg.fit(X_train_model7, y_train.ChgEmp.ravel())"
   ]
  },
  {
   "cell_type": "code",
   "execution_count": 51,
   "id": "915a5252",
   "metadata": {},
   "outputs": [
    {
     "name": "stdout",
     "output_type": "stream",
     "text": [
      "Train Data\n",
      "Accuracy  :\t 0.7039312039312039\n",
      "\n",
      "TPR Train :\t 0.7279596977329975\n",
      "TNR Train :\t 0.6810551558752997\n",
      "\n",
      "FPR Train :\t 0.31894484412470026\n",
      "FNR Train :\t 0.27204030226700254\n"
     ]
    },
    {
     "data": {
      "text/plain": [
       "<AxesSubplot:>"
      ]
     },
     "execution_count": 51,
     "metadata": {},
     "output_type": "execute_result"
    },
    {
     "data": {
      "image/png": "[encoded data removed]",
      "text/plain": [
       "<Figure size 432x288 with 2 Axes>"
      ]
     },
     "metadata": {},
     "output_type": "display_data"
    }
   ],
   "source": [
    "# Predict the Response corresponding to Predictors\n",
    "y_train_pred = lg.predict(X_train_model7)\n",
    "\n",
    "# Print the Classification Accuracy\n",
    "m7_train_ca = lg.score(X_train_model7, y_train)\n",
    "print(\"Train Data\")\n",
    "print(\"Accuracy  :\\t\", m7_train_ca)\n",
    "print()\n",
    "\n",
    "# Print the Accuracy Measures from the Confusion Matrix\n",
    "cmTrain = confusion_matrix(y_train, y_train_pred)\n",
    "tpTrain = cmTrain[1][1] \n",
    "fpTrain = cmTrain[0][1] \n",
    "tnTrain = cmTrain[0][0] \n",
    "fnTrain = cmTrain[1][0] \n",
    "\n",
    "m7_train_tpr = tpTrain/(tpTrain + fnTrain)\n",
    "m7_train_tnr = tnTrain/(tnTrain + fpTrain)\n",
    "\n",
    "print(\"TPR Train :\\t\", m7_train_tpr)\n",
    "print(\"TNR Train :\\t\", m7_train_tnr)\n",
    "print()\n",
    "\n",
    "m7_train_fpr = fpTrain/(tnTrain + fpTrain)\n",
    "m7_train_fnr = fnTrain/(tpTrain + fnTrain)\n",
    "\n",
    "print(\"FPR Train :\\t\", m7_train_fpr)\n",
    "print(\"FNR Train :\\t\", m7_train_fnr)\n",
    "\n",
    "# Plot the two-way Confusion Matrix\n",
    "sb.heatmap(confusion_matrix(y_train, y_train_pred), \n",
    "           annot = True, fmt=\".0f\", annot_kws={\"size\": 18})"
   ]
  },
  {
   "cell_type": "code",
   "execution_count": 52,
   "id": "bcd3a1eb",
   "metadata": {},
   "outputs": [
    {
     "name": "stdout",
     "output_type": "stream",
     "text": [
      "Test Data\n",
      "Accuracy  :\t 0.7303921568627451\n",
      "\n",
      "TPR Test :\t 0.7589285714285714\n",
      "TNR Test :\t 0.6956521739130435\n",
      "\n",
      "FPR Test :\t 0.30434782608695654\n",
      "FNR Test :\t 0.24107142857142858\n"
     ]
    },
    {
     "data": {
      "text/plain": [
       "<AxesSubplot:>"
      ]
     },
     "execution_count": 52,
     "metadata": {},
     "output_type": "execute_result"
    },
    {
     "data": {
      "image/png": "[encoded data removed]",
      "text/plain": [
       "<Figure size 432x288 with 2 Axes>"
      ]
     },
     "metadata": {},
     "output_type": "display_data"
    }
   ],
   "source": [
    "# Predict the Response corresponding to Predictors\n",
    "y_test_pred = lg.predict(X_test_model7)\n",
    "\n",
    "# Print the Classification Accuracy\n",
    "m7_test_ca = lg.score(X_test_model7, y_test)\n",
    "print(\"Test Data\")\n",
    "print(\"Accuracy  :\\t\", m7_test_ca)\n",
    "print()\n",
    "\n",
    "# Print the Accuracy Measures from the Confusion Matrix\n",
    "cmTest = confusion_matrix(y_test, y_test_pred)\n",
    "tpTest = cmTest[1][1]\n",
    "fpTest = cmTest[0][1] \n",
    "tnTest = cmTest[0][0] \n",
    "fnTest = cmTest[1][0] \n",
    "\n",
    "m7_test_tpr = tpTest/(tpTest + fnTest)\n",
    "m7_test_tnr = tnTest/(tnTest + fpTest)\n",
    "\n",
    "print(\"TPR Test :\\t\", m7_test_tpr)\n",
    "print(\"TNR Test :\\t\", m7_test_tnr)\n",
    "print()\n",
    "\n",
    "m7_test_fpr = fpTest/(tnTest + fpTest)\n",
    "m7_test_fnr = fnTest/(tpTest + fnTest)\n",
    "\n",
    "print(\"FPR Test :\\t\", m7_test_fpr)\n",
    "print(\"FNR Test :\\t\", m7_test_fnr)\n",
    "\n",
    "# Plot the two-way Confusion Matrix\n",
    "sb.heatmap(confusion_matrix(y_test, y_test_pred), \n",
    "           annot = True, fmt=\".0f\", annot_kws={\"size\": 18})"
   ]
  },
  {
   "cell_type": "code",
   "execution_count": 53,
   "id": "41a85971",
   "metadata": {},
   "outputs": [
    {
     "name": "stdout",
     "output_type": "stream",
     "text": [
      "              precision    recall  f1-score   support\n",
      "\n",
      "       Agree       0.70      0.70      0.70        92\n",
      "    Disagree       0.75      0.76      0.76       112\n",
      "\n",
      "    accuracy                           0.73       204\n",
      "   macro avg       0.73      0.73      0.73       204\n",
      "weighted avg       0.73      0.73      0.73       204\n",
      "\n"
     ]
    }
   ],
   "source": [
    "m7_test_f1 = metrics.f1_score(y_test, y_test_pred, pos_label='Disagree')\n",
    "print(metrics.classification_report(y_test, y_test_pred))"
   ]
  },
  {
   "cell_type": "code",
   "execution_count": 54,
   "id": "5efb841a",
   "metadata": {},
   "outputs": [
    {
     "data": {
      "image/png": "[encoded data removed]",
      "text/plain": [
       "<Figure size 432x288 with 1 Axes>"
      ]
     },
     "metadata": {},
     "output_type": "display_data"
    }
   ],
   "source": [
    "#define metrics\n",
    "y_pred_proba = lg.predict_proba(X_test_model7)[::,1]\n",
    "fpr, tpr, _ = metrics.roc_curve(y_test,  y_pred_proba, pos_label='Disagree')\n",
    "m7_test_auc = metrics.roc_auc_score(y_test, y_pred_proba)\n",
    "\n",
    "#create ROC curve\n",
    "plt.plot(fpr,tpr,label=\"AUC=\"+str(m7_test_auc))\n",
    "plt.ylabel('True Positive Rate')\n",
    "plt.xlabel('False Positive Rate')\n",
    "plt.legend(loc=4)\n",
    "plt.show()"
   ]
  },
  {
   "cell_type": "markdown",
   "id": "52eab55e",
   "metadata": {},
   "source": [
    "## Model 8"
   ]
  },
  {
   "cell_type": "code",
   "execution_count": 55,
   "id": "251016ac",
   "metadata": {},
   "outputs": [
    {
     "data": {
      "text/plain": [
       "LogisticRegression(max_iter=1000)"
      ]
     },
     "execution_count": 55,
     "metadata": {},
     "output_type": "execute_result"
    }
   ],
   "source": [
    "# Fit Random Forest on Train Data\n",
    "lg.fit(X_train_model8, y_train.ChgEmp.ravel())"
   ]
  },
  {
   "cell_type": "code",
   "execution_count": 56,
   "id": "dbef604e",
   "metadata": {},
   "outputs": [
    {
     "name": "stdout",
     "output_type": "stream",
     "text": [
      "Train Data\n",
      "Accuracy  :\t 0.7113022113022113\n",
      "\n",
      "TPR Train :\t 0.760705289672544\n",
      "TNR Train :\t 0.6642685851318945\n",
      "\n",
      "FPR Train :\t 0.33573141486810554\n",
      "FNR Train :\t 0.23929471032745592\n"
     ]
    },
    {
     "data": {
      "text/plain": [
       "<AxesSubplot:>"
      ]
     },
     "execution_count": 56,
     "metadata": {},
     "output_type": "execute_result"
    },
    {
     "data": {
      "image/png": "[encoded data removed]",
      "text/plain": [
       "<Figure size 432x288 with 2 Axes>"
      ]
     },
     "metadata": {},
     "output_type": "display_data"
    }
   ],
   "source": [
    "# Predict the Response corresponding to Predictors\n",
    "y_train_pred = lg.predict(X_train_model8)\n",
    "\n",
    "# Print the Classification Accuracy\n",
    "m8_train_ca = lg.score(X_train_model8, y_train)\n",
    "print(\"Train Data\")\n",
    "print(\"Accuracy  :\\t\", m8_train_ca)\n",
    "print()\n",
    "\n",
    "# Print the Accuracy Measures from the Confusion Matrix\n",
    "cmTrain = confusion_matrix(y_train, y_train_pred)\n",
    "tpTrain = cmTrain[1][1] \n",
    "fpTrain = cmTrain[0][1] \n",
    "tnTrain = cmTrain[0][0] \n",
    "fnTrain = cmTrain[1][0] \n",
    "\n",
    "m8_train_tpr = tpTrain/(tpTrain + fnTrain)\n",
    "m8_train_tnr = tnTrain/(tnTrain + fpTrain)\n",
    "\n",
    "print(\"TPR Train :\\t\", m8_train_tpr)\n",
    "print(\"TNR Train :\\t\", m8_train_tnr)\n",
    "print()\n",
    "\n",
    "m8_train_fpr = fpTrain/(tnTrain + fpTrain)\n",
    "m8_train_fnr = fnTrain/(tpTrain + fnTrain)\n",
    "\n",
    "print(\"FPR Train :\\t\", m8_train_fpr)\n",
    "print(\"FNR Train :\\t\", m8_train_fnr)\n",
    "\n",
    "# Plot the two-way Confusion Matrix\n",
    "sb.heatmap(confusion_matrix(y_train, y_train_pred), \n",
    "           annot = True, fmt=\".0f\", annot_kws={\"size\": 18})"
   ]
  },
  {
   "cell_type": "code",
   "execution_count": 57,
   "id": "08b438e4",
   "metadata": {},
   "outputs": [
    {
     "name": "stdout",
     "output_type": "stream",
     "text": [
      "Test Data\n",
      "Accuracy  :\t 0.7450980392156863\n",
      "\n",
      "TPR Test :\t 0.75\n",
      "TNR Test :\t 0.7391304347826086\n",
      "\n",
      "FPR Test :\t 0.2608695652173913\n",
      "FNR Test :\t 0.25\n"
     ]
    },
    {
     "data": {
      "text/plain": [
       "<AxesSubplot:>"
      ]
     },
     "execution_count": 57,
     "metadata": {},
     "output_type": "execute_result"
    },
    {
     "data": {
      "image/png": "[encoded data removed]",
      "text/plain": [
       "<Figure size 432x288 with 2 Axes>"
      ]
     },
     "metadata": {},
     "output_type": "display_data"
    }
   ],
   "source": [
    "# Predict the Response corresponding to Predictors\n",
    "y_test_pred = lg.predict(X_test_model8)\n",
    "\n",
    "# Print the Classification Accuracy\n",
    "m8_test_ca = lg.score(X_test_model8, y_test)\n",
    "print(\"Test Data\")\n",
    "print(\"Accuracy  :\\t\", m8_test_ca)\n",
    "print()\n",
    "\n",
    "# Print the Accuracy Measures from the Confusion Matrix\n",
    "cmTest = confusion_matrix(y_test, y_test_pred)\n",
    "tpTest = cmTest[1][1]\n",
    "fpTest = cmTest[0][1] \n",
    "tnTest = cmTest[0][0] \n",
    "fnTest = cmTest[1][0] \n",
    "\n",
    "m8_test_tpr = tpTest/(tpTest + fnTest)\n",
    "m8_test_tnr = tnTest/(tnTest + fpTest)\n",
    "\n",
    "print(\"TPR Test :\\t\", m8_test_tpr)\n",
    "print(\"TNR Test :\\t\", m8_test_tnr)\n",
    "print()\n",
    "\n",
    "m8_test_fpr = fpTest/(tnTest + fpTest)\n",
    "m8_test_fnr = fnTest/(tpTest + fnTest)\n",
    "\n",
    "print(\"FPR Test :\\t\", m8_test_fpr)\n",
    "print(\"FNR Test :\\t\", m8_test_fnr)\n",
    "\n",
    "# Plot the two-way Confusion Matrix\n",
    "sb.heatmap(confusion_matrix(y_test, y_test_pred), \n",
    "           annot = True, fmt=\".0f\", annot_kws={\"size\": 18})"
   ]
  },
  {
   "cell_type": "code",
   "execution_count": 58,
   "id": "489fecea",
   "metadata": {},
   "outputs": [
    {
     "name": "stdout",
     "output_type": "stream",
     "text": [
      "              precision    recall  f1-score   support\n",
      "\n",
      "       Agree       0.71      0.74      0.72        92\n",
      "    Disagree       0.78      0.75      0.76       112\n",
      "\n",
      "    accuracy                           0.75       204\n",
      "   macro avg       0.74      0.74      0.74       204\n",
      "weighted avg       0.75      0.75      0.75       204\n",
      "\n"
     ]
    }
   ],
   "source": [
    "m8_test_f1 = metrics.f1_score(y_test, y_test_pred, pos_label='Disagree')\n",
    "print(metrics.classification_report(y_test, y_test_pred))"
   ]
  },
  {
   "cell_type": "code",
   "execution_count": 59,
   "id": "58d88a3d",
   "metadata": {},
   "outputs": [
    {
     "data": {
      "image/png": "[encoded data removed]",
      "text/plain": [
       "<Figure size 432x288 with 1 Axes>"
      ]
     },
     "metadata": {},
     "output_type": "display_data"
    }
   ],
   "source": [
    "#define metrics\n",
    "y_pred_proba = lg.predict_proba(X_test_model8)[::,1]\n",
    "fpr, tpr, _ = metrics.roc_curve(y_test,  y_pred_proba, pos_label='Disagree')\n",
    "m8_test_auc = metrics.roc_auc_score(y_test, y_pred_proba)\n",
    "\n",
    "#create ROC curve\n",
    "plt.plot(fpr,tpr,label=\"AUC=\"+str(m8_test_auc))\n",
    "plt.ylabel('True Positive Rate')\n",
    "plt.xlabel('False Positive Rate')\n",
    "plt.legend(loc=4)\n",
    "plt.show()"
   ]
  },
  {
   "cell_type": "markdown",
   "id": "fd38d754",
   "metadata": {},
   "source": [
    "## Model 9"
   ]
  },
  {
   "cell_type": "code",
   "execution_count": 60,
   "id": "416bbd94",
   "metadata": {},
   "outputs": [
    {
     "data": {
      "text/plain": [
       "LogisticRegression(max_iter=1000)"
      ]
     },
     "execution_count": 60,
     "metadata": {},
     "output_type": "execute_result"
    }
   ],
   "source": [
    "# Fit Random Forest on Train Data\n",
    "lg.fit(X_train_model9, y_train.ChgEmp.ravel())"
   ]
  },
  {
   "cell_type": "code",
   "execution_count": 61,
   "id": "2407997b",
   "metadata": {},
   "outputs": [
    {
     "name": "stdout",
     "output_type": "stream",
     "text": [
      "Train Data\n",
      "Accuracy  :\t 0.6916461916461917\n",
      "\n",
      "TPR Train :\t 0.7204030226700252\n",
      "TNR Train :\t 0.6642685851318945\n",
      "\n",
      "FPR Train :\t 0.33573141486810554\n",
      "FNR Train :\t 0.2795969773299748\n"
     ]
    },
    {
     "data": {
      "text/plain": [
       "<AxesSubplot:>"
      ]
     },
     "execution_count": 61,
     "metadata": {},
     "output_type": "execute_result"
    },
    {
     "data": {
      "image/png": "[encoded data removed]",
      "text/plain": [
       "<Figure size 432x288 with 2 Axes>"
      ]
     },
     "metadata": {},
     "output_type": "display_data"
    }
   ],
   "source": [
    "# Predict the Response corresponding to Predictors\n",
    "y_train_pred = lg.predict(X_train_model9)\n",
    "\n",
    "# Print the Classification Accuracy\n",
    "m9_train_ca = lg.score(X_train_model9, y_train)\n",
    "print(\"Train Data\")\n",
    "print(\"Accuracy  :\\t\", m9_train_ca)\n",
    "print()\n",
    "\n",
    "# Print the Accuracy Measures from the Confusion Matrix\n",
    "cmTrain = confusion_matrix(y_train, y_train_pred)\n",
    "tpTrain = cmTrain[1][1] \n",
    "fpTrain = cmTrain[0][1] \n",
    "tnTrain = cmTrain[0][0] \n",
    "fnTrain = cmTrain[1][0] \n",
    "\n",
    "m9_train_tpr = tpTrain/(tpTrain + fnTrain)\n",
    "m9_train_tnr = tnTrain/(tnTrain + fpTrain)\n",
    "\n",
    "print(\"TPR Train :\\t\", m9_train_tpr)\n",
    "print(\"TNR Train :\\t\", m9_train_tnr)\n",
    "print()\n",
    "\n",
    "m9_train_fpr = fpTrain/(tnTrain + fpTrain)\n",
    "m9_train_fnr = fnTrain/(tpTrain + fnTrain)\n",
    "\n",
    "print(\"FPR Train :\\t\", m9_train_fpr)\n",
    "print(\"FNR Train :\\t\", m9_train_fnr)\n",
    "\n",
    "# Plot the two-way Confusion Matrix\n",
    "sb.heatmap(confusion_matrix(y_train, y_train_pred), \n",
    "           annot = True, fmt=\".0f\", annot_kws={\"size\": 18})"
   ]
  },
  {
   "cell_type": "code",
   "execution_count": 62,
   "id": "1e29e263",
   "metadata": {},
   "outputs": [
    {
     "name": "stdout",
     "output_type": "stream",
     "text": [
      "Test Data\n",
      "Accuracy  :\t 0.7156862745098039\n",
      "\n",
      "TPR Test :\t 0.7321428571428571\n",
      "TNR Test :\t 0.6956521739130435\n",
      "\n",
      "FPR Test :\t 0.30434782608695654\n",
      "FNR Test :\t 0.26785714285714285\n"
     ]
    },
    {
     "data": {
      "text/plain": [
       "<AxesSubplot:>"
      ]
     },
     "execution_count": 62,
     "metadata": {},
     "output_type": "execute_result"
    },
    {
     "data": {
      "image/png": "[encoded data removed]",
      "text/plain": [
       "<Figure size 432x288 with 2 Axes>"
      ]
     },
     "metadata": {},
     "output_type": "display_data"
    }
   ],
   "source": [
    "# Predict the Response corresponding to Predictors\n",
    "y_test_pred = lg.predict(X_test_model9)\n",
    "\n",
    "# Print the Classification Accuracy\n",
    "m9_test_ca = lg.score(X_test_model9, y_test)\n",
    "print(\"Test Data\")\n",
    "print(\"Accuracy  :\\t\", m9_test_ca)\n",
    "print()\n",
    "\n",
    "# Print the Accuracy Measures from the Confusion Matrix\n",
    "cmTest = confusion_matrix(y_test, y_test_pred)\n",
    "tpTest = cmTest[1][1]\n",
    "fpTest = cmTest[0][1] \n",
    "tnTest = cmTest[0][0] \n",
    "fnTest = cmTest[1][0] \n",
    "\n",
    "m9_test_tpr = tpTest/(tpTest + fnTest)\n",
    "m9_test_tnr = tnTest/(tnTest + fpTest)\n",
    "\n",
    "print(\"TPR Test :\\t\", m9_test_tpr)\n",
    "print(\"TNR Test :\\t\", m9_test_tnr)\n",
    "print()\n",
    "\n",
    "m9_test_fpr = fpTest/(tnTest + fpTest)\n",
    "m9_test_fnr = fnTest/(tpTest + fnTest)\n",
    "\n",
    "print(\"FPR Test :\\t\", m9_test_fpr)\n",
    "print(\"FNR Test :\\t\", m9_test_fnr)\n",
    "\n",
    "# Plot the two-way Confusion Matrix\n",
    "sb.heatmap(confusion_matrix(y_test, y_test_pred), \n",
    "           annot = True, fmt=\".0f\", annot_kws={\"size\": 18})"
   ]
  },
  {
   "cell_type": "code",
   "execution_count": 63,
   "id": "ce0d02b2",
   "metadata": {},
   "outputs": [
    {
     "name": "stdout",
     "output_type": "stream",
     "text": [
      "              precision    recall  f1-score   support\n",
      "\n",
      "       Agree       0.68      0.70      0.69        92\n",
      "    Disagree       0.75      0.73      0.74       112\n",
      "\n",
      "    accuracy                           0.72       204\n",
      "   macro avg       0.71      0.71      0.71       204\n",
      "weighted avg       0.72      0.72      0.72       204\n",
      "\n"
     ]
    }
   ],
   "source": [
    "m9_test_f1 = metrics.f1_score(y_test, y_test_pred, pos_label='Disagree')\n",
    "print(metrics.classification_report(y_test, y_test_pred))"
   ]
  },
  {
   "cell_type": "code",
   "execution_count": 64,
   "id": "76dc37bd",
   "metadata": {},
   "outputs": [
    {
     "data": {
      "image/png": "[encoded data removed]",
      "text/plain": [
       "<Figure size 432x288 with 1 Axes>"
      ]
     },
     "metadata": {},
     "output_type": "display_data"
    }
   ],
   "source": [
    "#define metrics\n",
    "y_pred_proba = lg.predict_proba(X_test_model9)[::,1]\n",
    "fpr, tpr, _ = metrics.roc_curve(y_test,  y_pred_proba, pos_label='Disagree')\n",
    "m9_test_auc = metrics.roc_auc_score(y_test, y_pred_proba)\n",
    "\n",
    "#create ROC curve\n",
    "plt.plot(fpr,tpr,label=\"AUC=\"+str(m9_test_auc))\n",
    "plt.ylabel('True Positive Rate')\n",
    "plt.xlabel('False Positive Rate')\n",
    "plt.legend(loc=4)\n",
    "plt.show()"
   ]
  },
  {
   "cell_type": "markdown",
   "id": "f409a806",
   "metadata": {},
   "source": [
    "## Model 10"
   ]
  },
  {
   "cell_type": "code",
   "execution_count": 65,
   "id": "5983250e",
   "metadata": {},
   "outputs": [
    {
     "data": {
      "text/plain": [
       "LogisticRegression(max_iter=1000)"
      ]
     },
     "execution_count": 65,
     "metadata": {},
     "output_type": "execute_result"
    }
   ],
   "source": [
    "# Fit Random Forest on Train Data\n",
    "lg.fit(X_train_model10, y_train.ChgEmp.ravel())"
   ]
  },
  {
   "cell_type": "code",
   "execution_count": 66,
   "id": "583bd705",
   "metadata": {},
   "outputs": [
    {
     "name": "stdout",
     "output_type": "stream",
     "text": [
      "Train Data\n",
      "Accuracy  :\t 0.7014742014742015\n",
      "\n",
      "TPR Train :\t 0.7279596977329975\n",
      "TNR Train :\t 0.6762589928057554\n",
      "\n",
      "FPR Train :\t 0.3237410071942446\n",
      "FNR Train :\t 0.27204030226700254\n"
     ]
    },
    {
     "data": {
      "text/plain": [
       "<AxesSubplot:>"
      ]
     },
     "execution_count": 66,
     "metadata": {},
     "output_type": "execute_result"
    },
    {
     "data": {
      "image/png": "[encoded data removed]",
      "text/plain": [
       "<Figure size 432x288 with 2 Axes>"
      ]
     },
     "metadata": {},
     "output_type": "display_data"
    }
   ],
   "source": [
    "# Predict the Response corresponding to Predictors\n",
    "y_train_pred = lg.predict(X_train_model10)\n",
    "\n",
    "# Print the Classification Accuracy\n",
    "m10_train_ca = lg.score(X_train_model10, y_train)\n",
    "print(\"Train Data\")\n",
    "print(\"Accuracy  :\\t\", m10_train_ca)\n",
    "print()\n",
    "\n",
    "# Print the Accuracy Measures from the Confusion Matrix\n",
    "cmTrain = confusion_matrix(y_train, y_train_pred)\n",
    "tpTrain = cmTrain[1][1] \n",
    "fpTrain = cmTrain[0][1] \n",
    "tnTrain = cmTrain[0][0] \n",
    "fnTrain = cmTrain[1][0] \n",
    "\n",
    "m10_train_tpr = tpTrain/(tpTrain + fnTrain)\n",
    "m10_train_tnr = tnTrain/(tnTrain + fpTrain)\n",
    "\n",
    "print(\"TPR Train :\\t\", m10_train_tpr)\n",
    "print(\"TNR Train :\\t\", m10_train_tnr)\n",
    "print()\n",
    "\n",
    "m10_train_fpr = fpTrain/(tnTrain + fpTrain)\n",
    "m10_train_fnr = fnTrain/(tpTrain + fnTrain)\n",
    "\n",
    "print(\"FPR Train :\\t\", m10_train_fpr)\n",
    "print(\"FNR Train :\\t\", m10_train_fnr)\n",
    "\n",
    "# Plot the two-way Confusion Matrix\n",
    "sb.heatmap(confusion_matrix(y_train, y_train_pred), \n",
    "           annot = True, fmt=\".0f\", annot_kws={\"size\": 18})"
   ]
  },
  {
   "cell_type": "code",
   "execution_count": 67,
   "id": "77cd49d4",
   "metadata": {},
   "outputs": [
    {
     "name": "stdout",
     "output_type": "stream",
     "text": [
      "Test Data\n",
      "Accuracy  :\t 0.7205882352941176\n",
      "\n",
      "TPR Test :\t 0.7053571428571429\n",
      "TNR Test :\t 0.7391304347826086\n",
      "\n",
      "FPR Test :\t 0.2608695652173913\n",
      "FNR Test :\t 0.29464285714285715\n"
     ]
    },
    {
     "data": {
      "text/plain": [
       "<AxesSubplot:>"
      ]
     },
     "execution_count": 67,
     "metadata": {},
     "output_type": "execute_result"
    },
    {
     "data": {
      "image/png": "[encoded data removed]",
      "text/plain": [
       "<Figure size 432x288 with 2 Axes>"
      ]
     },
     "metadata": {},
     "output_type": "display_data"
    }
   ],
   "source": [
    "# Predict the Response corresponding to Predictors\n",
    "y_test_pred = lg.predict(X_test_model10)\n",
    "\n",
    "# Print the Classification Accuracy\n",
    "m10_test_ca = lg.score(X_test_model10, y_test)\n",
    "print(\"Test Data\")\n",
    "print(\"Accuracy  :\\t\", m10_test_ca)\n",
    "print()\n",
    "\n",
    "# Print the Accuracy Measures from the Confusion Matrix\n",
    "cmTest = confusion_matrix(y_test, y_test_pred)\n",
    "tpTest = cmTest[1][1]\n",
    "fpTest = cmTest[0][1] \n",
    "tnTest = cmTest[0][0] \n",
    "fnTest = cmTest[1][0] \n",
    "\n",
    "m10_test_tpr = tpTest/(tpTest + fnTest)\n",
    "m10_test_tnr = tnTest/(tnTest + fpTest)\n",
    "\n",
    "print(\"TPR Test :\\t\", m10_test_tpr)\n",
    "print(\"TNR Test :\\t\", m10_test_tnr)\n",
    "print()\n",
    "\n",
    "m10_test_fpr = fpTest/(tnTest + fpTest)\n",
    "m10_test_fnr = fnTest/(tpTest + fnTest)\n",
    "\n",
    "print(\"FPR Test :\\t\", m10_test_fpr)\n",
    "print(\"FNR Test :\\t\", m10_test_fnr)\n",
    "\n",
    "# Plot the two-way Confusion Matrix\n",
    "sb.heatmap(confusion_matrix(y_test, y_test_pred), \n",
    "           annot = True, fmt=\".0f\", annot_kws={\"size\": 18})"
   ]
  },
  {
   "cell_type": "code",
   "execution_count": 68,
   "id": "df1fc1f1",
   "metadata": {},
   "outputs": [
    {
     "name": "stdout",
     "output_type": "stream",
     "text": [
      "              precision    recall  f1-score   support\n",
      "\n",
      "       Agree       0.67      0.74      0.70        92\n",
      "    Disagree       0.77      0.71      0.73       112\n",
      "\n",
      "    accuracy                           0.72       204\n",
      "   macro avg       0.72      0.72      0.72       204\n",
      "weighted avg       0.72      0.72      0.72       204\n",
      "\n"
     ]
    }
   ],
   "source": [
    "m10_test_f1 = metrics.f1_score(y_test, y_test_pred, pos_label='Disagree')\n",
    "print(metrics.classification_report(y_test, y_test_pred))"
   ]
  },
  {
   "cell_type": "code",
   "execution_count": 69,
   "id": "057bab83",
   "metadata": {},
   "outputs": [
    {
     "data": {
      "image/png": "[encoded data removed]",
      "text/plain": [
       "<Figure size 432x288 with 1 Axes>"
      ]
     },
     "metadata": {},
     "output_type": "display_data"
    }
   ],
   "source": [
    "#define metrics\n",
    "y_pred_proba = lg.predict_proba(X_test_model10)[::,1]\n",
    "fpr, tpr, _ = metrics.roc_curve(y_test,  y_pred_proba, pos_label='Disagree')\n",
    "m10_test_auc = metrics.roc_auc_score(y_test, y_pred_proba)\n",
    "\n",
    "#create ROC curve\n",
    "plt.plot(fpr,tpr,label=\"AUC=\"+str(m10_test_auc))\n",
    "plt.ylabel('True Positive Rate')\n",
    "plt.xlabel('False Positive Rate')\n",
    "plt.legend(loc=4)\n",
    "plt.show()"
   ]
  }
 ],
 "metadata": {
  "kernelspec": {
   "display_name": "Python 3 (ipykernel)",
   "language": "python",
   "name": "python3"
  },
  "language_info": {
   "codemirror_mode": {
    "name": "ipython",
    "version": 3
   },
   "file_extension": ".py",
   "mimetype": "text/x-python",
   "name": "python",
   "nbconvert_exporter": "python",
   "pygments_lexer": "ipython3",
   "version": "3.9.12"
  }
 },
 "nbformat": 4,
 "nbformat_minor": 5
}
